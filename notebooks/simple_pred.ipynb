{
 "cells": [
  {
   "cell_type": "code",
   "execution_count": 1,
   "id": "d9492388-77ec-4121-9bc9-4bcae7d95af0",
   "metadata": {},
   "outputs": [
    {
     "name": "stderr",
     "output_type": "stream",
     "text": [
      "[nltk_data] Downloading package stopwords to /home/tayna/nltk_data...\n",
      "[nltk_data]   Package stopwords is already up-to-date!\n",
      "[nltk_data] Downloading package stopwords to /home/tayna/nltk_data...\n",
      "[nltk_data]   Package stopwords is already up-to-date!\n"
     ]
    }
   ],
   "source": [
    "%reload_ext autoreload\n",
    "%autoreload 2\n",
    "\n",
    "from functools import partial\n",
    "import joblib\n",
    "import pickle\n",
    "#from src.data import organize\n",
    "from itertools import product # produto cartesiano de duas listas sem precisar de for aninhados\n",
    "import pandas as pd # manipulação de dataframes\n",
    "import nltk # ferramentas p/ processamento de linguagem natural\n",
    "import numpy as np # manipulação de matrizes, funções matemáticas\n",
    "from matplotlib import pyplot as plt\n",
    "import seaborn as sns\n",
    "from sklearn.feature_extraction.text import CountVectorizer, TfidfTransformer\n",
    "from sklearn.decomposition import TruncatedSVD\n",
    "from sklearn.preprocessing import StandardScaler, LabelEncoder\n",
    "from sklearn.pipeline import Pipeline\n",
    "from sklearn.linear_model import LogisticRegression\n",
    "from sklearn.neighbors import KNeighborsClassifier\n",
    "from sklearn.svm import SVC\n",
    "from sklearn.ensemble import RandomForestClassifier\n",
    "from sklearn.model_selection import (\n",
    "    ShuffleSplit, KFold, cross_validate, RandomizedSearchCV\n",
    ")\n",
    "from sklearn.metrics import confusion_matrix\n",
    "nltk.download(\"stopwords\")\n",
    "\n",
    "from src.data import preprocessing"
   ]
  },
  {
   "cell_type": "code",
   "execution_count": 2,
   "id": "add8794f-44b6-416c-a457-66d55069cd4a",
   "metadata": {},
   "outputs": [],
   "source": [
    "# Adquire dados do arquivo produzido na etapa anterior\n",
    "input_path = '../data/processed/textos_pre-processados.csv'\n",
    "df = pd.read_csv(input_path)\n",
    "\n",
    "# Converte as colunas com texto em uma lista\n",
    "corpus = df.text.to_list()\n",
    "\n",
    "# Atribui codificação dos rótulos das notícias\n",
    "labels = df.label.replace({\"true\": 1, \"fake\": 0})\n",
    "\n",
    "#import joblib\n",
    "approach = joblib.load('../models/best_model.joblib')"
   ]
  },
  {
   "cell_type": "code",
   "execution_count": 3,
   "id": "b7849759-7f74-4861-961b-1d619c13a575",
   "metadata": {},
   "outputs": [
    {
     "data": {
      "text/plain": [
       "Pipeline(steps=[('vectorizer',\n",
       "                 Pipeline(steps=[('count', CountVectorizer(max_features=2000)),\n",
       "                                 ('tfidf', TfidfTransformer())])),\n",
       "                ('pca', TruncatedSVD(n_components=200)),\n",
       "                ('normalize', StandardScaler()),\n",
       "                ('model',\n",
       "                 SVC(C=100, gamma='auto', max_iter=10000, probability=True))])"
      ]
     },
     "execution_count": 3,
     "metadata": {},
     "output_type": "execute_result"
    }
   ],
   "source": [
    "approach"
   ]
  },
  {
   "cell_type": "code",
   "execution_count": 4,
   "id": "8a222b2f-6bfa-498f-a479-3c972839d9d2",
   "metadata": {},
   "outputs": [
    {
     "data": {
      "text/html": [
       "<div>\n",
       "<style scoped>\n",
       "    .dataframe tbody tr th:only-of-type {\n",
       "        vertical-align: middle;\n",
       "    }\n",
       "\n",
       "    .dataframe tbody tr th {\n",
       "        vertical-align: top;\n",
       "    }\n",
       "\n",
       "    .dataframe thead th {\n",
       "        text-align: right;\n",
       "    }\n",
       "</style>\n",
       "<table border=\"1\" class=\"dataframe\">\n",
       "  <thead>\n",
       "    <tr style=\"text-align: right;\">\n",
       "      <th></th>\n",
       "      <th>text</th>\n",
       "      <th>label</th>\n",
       "      <th>lemmatization_plus_stop_words</th>\n",
       "      <th>stemming_plus_stopwords</th>\n",
       "      <th>lemmatization_wo_stopwords</th>\n",
       "      <th>stemming_wo_stopwords</th>\n",
       "    </tr>\n",
       "  </thead>\n",
       "  <tbody>\n",
       "    <tr>\n",
       "      <th>0</th>\n",
       "      <td>JBS pagará R$ 650 mil de indenização por demis...</td>\n",
       "      <td>true</td>\n",
       "      <td>jbs pagar r 650 mil de indenização por demissã...</td>\n",
       "      <td>jb pag r 650 mil de inden por demiss em mass e...</td>\n",
       "      <td>jbs pagar r 650 mil indenização demissão masso...</td>\n",
       "      <td>jb pag r 650 mil inden demiss mass mt jb don m...</td>\n",
       "    </tr>\n",
       "    <tr>\n",
       "      <th>1</th>\n",
       "      <td>Motorista envolvido em morte de comissário já ...</td>\n",
       "      <td>true</td>\n",
       "      <td>motorista envolver em morte de comissário já p...</td>\n",
       "      <td>motor envolv em mort de comiss já process pref...</td>\n",
       "      <td>motorista envolver morte comissário processar ...</td>\n",
       "      <td>motor envolv mort comiss process prefeit dem s...</td>\n",
       "    </tr>\n",
       "    <tr>\n",
       "      <th>2</th>\n",
       "      <td>Em propaganda partidária veiculada anteontem ...</td>\n",
       "      <td>true</td>\n",
       "      <td>em propaganda partidário veicular anteontem em...</td>\n",
       "      <td>em propagand partidár veicul anteont na televi...</td>\n",
       "      <td>propaganda partidário veicular anteontem telev...</td>\n",
       "      <td>propagand partidár veicul anteont televis rádi...</td>\n",
       "    </tr>\n",
       "    <tr>\n",
       "      <th>3</th>\n",
       "      <td>PGR pede ao STF que reverta decisão do Legisla...</td>\n",
       "      <td>true</td>\n",
       "      <td>pgr pedir a o stf que revertir decisão de o le...</td>\n",
       "      <td>pgr ped ao stf que revert decis do legisl poti...</td>\n",
       "      <td>pgr pedir stf reverto decisão legislativo poti...</td>\n",
       "      <td>pgr ped stf revert decis legisl potigu af depu...</td>\n",
       "    </tr>\n",
       "    <tr>\n",
       "      <th>4</th>\n",
       "      <td>Como o Ocidente compreende mal a China. Apesar...</td>\n",
       "      <td>true</td>\n",
       "      <td>como o ocidente compreender mal o China apesar...</td>\n",
       "      <td>com o ocid compreend mal a chin apes da apost ...</td>\n",
       "      <td>ocidente compreender mal China apesar aposta l...</td>\n",
       "      <td>ocid compreend mal chin apes apost líd ocident...</td>\n",
       "    </tr>\n",
       "    <tr>\n",
       "      <th>...</th>\n",
       "      <td>...</td>\n",
       "      <td>...</td>\n",
       "      <td>...</td>\n",
       "      <td>...</td>\n",
       "      <td>...</td>\n",
       "      <td>...</td>\n",
       "    </tr>\n",
       "    <tr>\n",
       "      <th>7195</th>\n",
       "      <td>Coreia anuncia novo teste nuclear. Diplomata d...</td>\n",
       "      <td>fake</td>\n",
       "      <td>coreiar anunciar novo teste nuclear diplomata ...</td>\n",
       "      <td>core anunc nov test nucle diplomat diz par was...</td>\n",
       "      <td>coreiar anunciar novo teste nuclear diplomata ...</td>\n",
       "      <td>core anunc nov test nucle diplomat diz washing...</td>\n",
       "    </tr>\n",
       "    <tr>\n",
       "      <th>7196</th>\n",
       "      <td>Temer vai punir Sergio Reis e Tiririca por tra...</td>\n",
       "      <td>fake</td>\n",
       "      <td>temer ir punir sergio rei e tiririco por traiç...</td>\n",
       "      <td>tem vai pun sergi reil e tirir por tra sergi r...</td>\n",
       "      <td>temer ir punir sergio reis tiririco traição Se...</td>\n",
       "      <td>tem vai pun sergi reil tirir tra sergi reil ti...</td>\n",
       "    </tr>\n",
       "    <tr>\n",
       "      <th>7197</th>\n",
       "      <td>Wikileaks diz que Temer era espião dos EUA. . ...</td>\n",
       "      <td>fake</td>\n",
       "      <td>Wikileaks dizer que temer ser espião de o EUA ...</td>\n",
       "      <td>wikileak diz que tem era espiã do eua o wikile...</td>\n",
       "      <td>Wikileaks dizer temer espião EUA Wikileaks por...</td>\n",
       "      <td>wikileak diz tem espiã eua wikileak port espec...</td>\n",
       "    </tr>\n",
       "    <tr>\n",
       "      <th>7198</th>\n",
       "      <td>Site divulga que viagem de Lula à Europa seria...</td>\n",
       "      <td>fake</td>\n",
       "      <td>site divulgar que viagem de Lula a o Europa se...</td>\n",
       "      <td>sit divulg que viag de lul à europ ser par tra...</td>\n",
       "      <td>site divulgar viagem Lula Europa tratamento po...</td>\n",
       "      <td>sit divulg viag lul europ trat possível cânc a...</td>\n",
       "    </tr>\n",
       "    <tr>\n",
       "      <th>7199</th>\n",
       "      <td>Dilma escorrega em entrevista e confessa que p...</td>\n",
       "      <td>fake</td>\n",
       "      <td>Dilma escorregar em entrevista e confessar que...</td>\n",
       "      <td>dilm escorreg em entrev e confess que plebisci...</td>\n",
       "      <td>Dilma escorrega entrevista confessar plebiscit...</td>\n",
       "      <td>dilm escorreg entrev confess plebiscit nov ele...</td>\n",
       "    </tr>\n",
       "  </tbody>\n",
       "</table>\n",
       "<p>7200 rows × 6 columns</p>\n",
       "</div>"
      ],
      "text/plain": [
       "                                                   text label  \\\n",
       "0     JBS pagará R$ 650 mil de indenização por demis...  true   \n",
       "1     Motorista envolvido em morte de comissário já ...  true   \n",
       "2      Em propaganda partidária veiculada anteontem ...  true   \n",
       "3     PGR pede ao STF que reverta decisão do Legisla...  true   \n",
       "4     Como o Ocidente compreende mal a China. Apesar...  true   \n",
       "...                                                 ...   ...   \n",
       "7195  Coreia anuncia novo teste nuclear. Diplomata d...  fake   \n",
       "7196  Temer vai punir Sergio Reis e Tiririca por tra...  fake   \n",
       "7197  Wikileaks diz que Temer era espião dos EUA. . ...  fake   \n",
       "7198  Site divulga que viagem de Lula à Europa seria...  fake   \n",
       "7199  Dilma escorrega em entrevista e confessa que p...  fake   \n",
       "\n",
       "                          lemmatization_plus_stop_words  \\\n",
       "0     jbs pagar r 650 mil de indenização por demissã...   \n",
       "1     motorista envolver em morte de comissário já p...   \n",
       "2     em propaganda partidário veicular anteontem em...   \n",
       "3     pgr pedir a o stf que revertir decisão de o le...   \n",
       "4     como o ocidente compreender mal o China apesar...   \n",
       "...                                                 ...   \n",
       "7195  coreiar anunciar novo teste nuclear diplomata ...   \n",
       "7196  temer ir punir sergio rei e tiririco por traiç...   \n",
       "7197  Wikileaks dizer que temer ser espião de o EUA ...   \n",
       "7198  site divulgar que viagem de Lula a o Europa se...   \n",
       "7199  Dilma escorregar em entrevista e confessar que...   \n",
       "\n",
       "                                stemming_plus_stopwords  \\\n",
       "0     jb pag r 650 mil de inden por demiss em mass e...   \n",
       "1     motor envolv em mort de comiss já process pref...   \n",
       "2     em propagand partidár veicul anteont na televi...   \n",
       "3     pgr ped ao stf que revert decis do legisl poti...   \n",
       "4     com o ocid compreend mal a chin apes da apost ...   \n",
       "...                                                 ...   \n",
       "7195  core anunc nov test nucle diplomat diz par was...   \n",
       "7196  tem vai pun sergi reil e tirir por tra sergi r...   \n",
       "7197  wikileak diz que tem era espiã do eua o wikile...   \n",
       "7198  sit divulg que viag de lul à europ ser par tra...   \n",
       "7199  dilm escorreg em entrev e confess que plebisci...   \n",
       "\n",
       "                             lemmatization_wo_stopwords  \\\n",
       "0     jbs pagar r 650 mil indenização demissão masso...   \n",
       "1     motorista envolver morte comissário processar ...   \n",
       "2     propaganda partidário veicular anteontem telev...   \n",
       "3     pgr pedir stf reverto decisão legislativo poti...   \n",
       "4     ocidente compreender mal China apesar aposta l...   \n",
       "...                                                 ...   \n",
       "7195  coreiar anunciar novo teste nuclear diplomata ...   \n",
       "7196  temer ir punir sergio reis tiririco traição Se...   \n",
       "7197  Wikileaks dizer temer espião EUA Wikileaks por...   \n",
       "7198  site divulgar viagem Lula Europa tratamento po...   \n",
       "7199  Dilma escorrega entrevista confessar plebiscit...   \n",
       "\n",
       "                                  stemming_wo_stopwords  \n",
       "0     jb pag r 650 mil inden demiss mass mt jb don m...  \n",
       "1     motor envolv mort comiss process prefeit dem s...  \n",
       "2     propagand partidár veicul anteont televis rádi...  \n",
       "3     pgr ped stf revert decis legisl potigu af depu...  \n",
       "4     ocid compreend mal chin apes apost líd ocident...  \n",
       "...                                                 ...  \n",
       "7195  core anunc nov test nucle diplomat diz washing...  \n",
       "7196  tem vai pun sergi reil tirir tra sergi reil ti...  \n",
       "7197  wikileak diz tem espiã eua wikileak port espec...  \n",
       "7198  sit divulg viag lul europ trat possível cânc a...  \n",
       "7199  dilm escorreg entrev confess plebiscit nov ele...  \n",
       "\n",
       "[7200 rows x 6 columns]"
      ]
     },
     "execution_count": 4,
     "metadata": {},
     "output_type": "execute_result"
    }
   ],
   "source": [
    "df"
   ]
  },
  {
   "cell_type": "code",
   "execution_count": 24,
   "id": "726a634b-ac33-496a-8438-ba28a94cc76c",
   "metadata": {},
   "outputs": [],
   "source": [
    "y_probs = approach.predict_proba(df.lemmatization_plus_stop_words)"
   ]
  },
  {
   "cell_type": "code",
   "execution_count": 25,
   "id": "94bcb358-a8c8-462a-b052-4b5c798a0cf4",
   "metadata": {},
   "outputs": [],
   "source": [
    "y_hat = approach.predict(df.lemmatization_plus_stop_words)"
   ]
  },
  {
   "cell_type": "code",
   "execution_count": 26,
   "id": "b19c318d-5eaf-429a-8143-f2e7d174dca6",
   "metadata": {},
   "outputs": [
    {
     "data": {
      "text/plain": [
       "array([[3573,   27],\n",
       "       [  68, 3532]])"
      ]
     },
     "execution_count": 26,
     "metadata": {},
     "output_type": "execute_result"
    }
   ],
   "source": [
    "confusion_matrix(labels, y_hat)"
   ]
  },
  {
   "cell_type": "code",
   "execution_count": 27,
   "id": "bc9afbd0-2cf6-4c73-aff2-b65532361ea0",
   "metadata": {},
   "outputs": [
    {
     "data": {
      "text/plain": [
       "array([[6.13211735e-02, 9.38678827e-01],\n",
       "       [5.20753708e-02, 9.47924629e-01],\n",
       "       [6.50800806e-07, 9.99999349e-01],\n",
       "       ...,\n",
       "       [9.92163091e-01, 7.83690866e-03],\n",
       "       [9.93390476e-01, 6.60952352e-03],\n",
       "       [9.90569199e-01, 9.43080111e-03]])"
      ]
     },
     "execution_count": 27,
     "metadata": {},
     "output_type": "execute_result"
    }
   ],
   "source": [
    "y_probs"
   ]
  },
  {
   "cell_type": "code",
   "execution_count": 28,
   "id": "2195d291-56ba-450f-af61-a4eca7e0a793",
   "metadata": {},
   "outputs": [
    {
     "data": {
      "text/plain": [
       "<seaborn.axisgrid.FacetGrid at 0x7f22ce4f89a0>"
      ]
     },
     "execution_count": 28,
     "metadata": {},
     "output_type": "execute_result"
    },
    {
     "data": {
      "image/png": "[encoded data removed]",
      "text/plain": [
       "<Figure size 360x360 with 1 Axes>"
      ]
     },
     "metadata": {
      "needs_background": "light"
     },
     "output_type": "display_data"
    }
   ],
   "source": [
    "sns.displot(y_probs[:,0], kde=True)"
   ]
  },
  {
   "cell_type": "code",
   "execution_count": 21,
   "id": "bd4256cc-37a6-480c-8fd6-203b80d13bcb",
   "metadata": {},
   "outputs": [
    {
     "data": {
      "text/plain": [
       "Series([], Name: lemmatization_wo_stopwords, dtype: object)"
      ]
     },
     "execution_count": 21,
     "metadata": {},
     "output_type": "execute_result"
    }
   ],
   "source": [
    "df.lemmatization_wo_stopwords[(y_probs[:,0] > 0.05) & (y_probs[:,0] < 0.98)]"
   ]
  }
 ],
 "metadata": {
  "kernelspec": {
   "display_name": "Python 3 (ipykernel)",
   "language": "python",
   "name": "python3"
  },
  "language_info": {
   "codemirror_mode": {
    "name": "ipython",
    "version": 3
   },
   "file_extension": ".py",
   "mimetype": "text/x-python",
   "name": "python",
   "nbconvert_exporter": "python",
   "pygments_lexer": "ipython3",
   "version": "3.8.10"
  }
 },
 "nbformat": 4,
 "nbformat_minor": 5
}
