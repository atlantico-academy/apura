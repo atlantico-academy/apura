{
 "cells": [
  {
   "cell_type": "markdown",
   "id": "23b6be34-b529-45b5-a0f9-f56ff8911bd9",
   "metadata": {
    "papermill": {
     "duration": 0.01873,
     "end_time": "2022-07-15T02:38:20.393153",
     "exception": false,
     "start_time": "2022-07-15T02:38:20.374423",
     "status": "completed"
    },
    "tags": []
   },
   "source": [
    "# Análise Comparativa de Modelos\n",
    "\n",
    "Nesse notebook iremos olhar para os textos obtidos na primeira unidade para construir modelos de aprendizado de máquina. Para isso, precisaremos de algumas bibliotecas já conhecidas (*pandas, nltk, numpy*) e de outras novas, relacionadas à:\n",
    "- preparação dos dados: \n",
    "    - *CountVectorizer*, \n",
    "    - *TfidfVectorizer*,\n",
    "    - *TruncatedSVD*\n",
    "    - *StandardScaler*\n",
    "- aprendizagem em si: \n",
    "    - *LogisticRegression*, \n",
    "    - *KNeighborsClassifier*, \n",
    "    - *SVC*, \n",
    "    - *RandomForestClassifier*\n",
    "- construção da sequência de passos a realizar:\n",
    "    - *Pipeline*\n",
    "- avaliação e seleção dos modelos obtidos:\n",
    "    - *ShuffleSplit*,\n",
    "    - *cross_validate*\n",
    "    \n",
    "Algumas dessas funções serão explicadas adiante. Sigamos.\n",
    "\n",
    "## Importando bibliotecas"
   ]
  },
  {
   "cell_type": "code",
   "execution_count": 1,
   "id": "542b5384-0a7a-4009-bd2d-bf6c6c8656d3",
   "metadata": {
    "execution": {
     "iopub.execute_input": "2022-07-15T02:38:20.427516Z",
     "iopub.status.busy": "2022-07-15T02:38:20.427180Z",
     "iopub.status.idle": "2022-07-15T02:38:26.254497Z",
     "shell.execute_reply": "2022-07-15T02:38:26.253583Z"
    },
    "papermill": {
     "duration": 5.847015,
     "end_time": "2022-07-15T02:38:26.257310",
     "exception": false,
     "start_time": "2022-07-15T02:38:20.410295",
     "status": "completed"
    },
    "tags": []
   },
   "outputs": [
    {
     "name": "stderr",
     "output_type": "stream",
     "text": [
      "[nltk_data] Downloading package stopwords to\n",
      "[nltk_data]     /data/home/taynafiuza/nltk_data...\n",
      "[nltk_data]   Package stopwords is already up-to-date!\n"
     ]
    },
    {
     "data": {
      "text/plain": [
       "True"
      ]
     },
     "execution_count": 1,
     "metadata": {},
     "output_type": "execute_result"
    }
   ],
   "source": [
    "%reload_ext autoreload\n",
    "%autoreload 2\n",
    "\n",
    "from functools import partial\n",
    "import joblib\n",
    "import pickle\n",
    "from src.data import organize\n",
    "from itertools import product # produto cartesiano de duas listas sem precisar de for aninhados\n",
    "import pandas as pd # manipulação de dataframes\n",
    "import nltk # ferramentas p/ processamento de linguagem natural\n",
    "import numpy as np # manipulação de matrizes, funções matemáticas\n",
    "from matplotlib import pyplot as plt\n",
    "import seaborn as sns\n",
    "from sklearn.feature_extraction.text import CountVectorizer, TfidfTransformer\n",
    "from sklearn.decomposition import TruncatedSVD\n",
    "from sklearn.preprocessing import StandardScaler, LabelEncoder\n",
    "from sklearn.pipeline import Pipeline\n",
    "from sklearn.linear_model import LogisticRegression\n",
    "from sklearn.neighbors import KNeighborsClassifier\n",
    "from sklearn.svm import SVC\n",
    "from sklearn.ensemble import RandomForestClassifier, GradientBoostingClassifier\n",
    "from sklearn.model_selection import (\n",
    "    ShuffleSplit, KFold, cross_validate, RandomizedSearchCV\n",
    ")\n",
    "\n",
    "nltk.download(\"stopwords\")"
   ]
  },
  {
   "cell_type": "markdown",
   "id": "6914b1ad-d16a-4753-9e1b-c2a8a98e74e3",
   "metadata": {
    "papermill": {
     "duration": 0.011151,
     "end_time": "2022-07-15T02:38:26.282400",
     "exception": false,
     "start_time": "2022-07-15T02:38:26.271249",
     "status": "completed"
    },
    "tags": []
   },
   "source": [
    "## Carregando Dados"
   ]
  },
  {
   "cell_type": "code",
   "execution_count": 2,
   "id": "cf70b45f-1075-4258-956f-d9e9b450a7d1",
   "metadata": {
    "execution": {
     "iopub.execute_input": "2022-07-15T02:38:26.307246Z",
     "iopub.status.busy": "2022-07-15T02:38:26.306893Z",
     "iopub.status.idle": "2022-07-15T02:38:26.727236Z",
     "shell.execute_reply": "2022-07-15T02:38:26.726404Z"
    },
    "papermill": {
     "duration": 0.436497,
     "end_time": "2022-07-15T02:38:26.730154",
     "exception": false,
     "start_time": "2022-07-15T02:38:26.293657",
     "status": "completed"
    },
    "tags": []
   },
   "outputs": [],
   "source": [
    "# Adquire dados do arquivo produzido na etapa anterior\n",
    "input_path = \"../data/interim/news.csv\"\n",
    "df = pd.read_csv(input_path)\n",
    "\n",
    "# Converte as colunas com texto em uma lista\n",
    "corpus = df.text.to_list()\n",
    "\n",
    "# Atribui codificação dos rótulos das notícias\n",
    "#label_encoder = LabelEncoder()\n",
    "#labels = label_encoder.fit_transform(df.label)\n",
    "labels = df.label.replace({\"true\": 1, \"fake\": 0})"
   ]
  },
  {
   "cell_type": "markdown",
   "id": "a809f859-8c48-4ee0-a9f5-2665b03be073",
   "metadata": {
    "papermill": {
     "duration": 0.012804,
     "end_time": "2022-07-15T02:38:26.755977",
     "exception": false,
     "start_time": "2022-07-15T02:38:26.743173",
     "status": "completed"
    },
    "tags": []
   },
   "source": [
    "## Conversão dos textos (Vetorizadores)\n",
    "\n",
    "### CountVectorizer\n",
    "\n",
    "Esse método de conversão cria uma matriz com a contagem de todas as palavras presentes em todos os textos considerados. Esse método também é chamado de Bag of Words, ou Saco de Palavras.\n",
    "\n",
    "![CountVectorizer](images/count-vectorizer.png)\n",
    "\n",
    "### TfidfVectorizer\n",
    "\n",
    "Esse método de conversão cria uma matriz que considera dois valores: TF e DF. TF ($tf_{i,j}$) é a contagem de uma palavra ($i$) no texto ($j$), tal como é calculada pelo CountVectorizer. Já DF ($df_{i}$) diz respeito à quantidade de textos em que aquela palavra aparece. No cálculo, o valor para uma dada palavra ($w_{i,j}$) é dado por:\n",
    "\n",
    "$ w_{i,j} = tf_{i,j} \\times log(\\frac{N}{df_{i}}) $\n",
    "\n",
    "Em que $N$ é o número total de documentos. Como $df_{i}$ está no denominador do logarítmo, trata-se de uma conversão que considera TF e o inverso de DF, iDF.\n",
    "\n",
    "![CountVectorizer](images/tfidf-vectorizer.png)\n",
    "\n",
    "Em ambos os casos, palavras comuns e sem importância semântica no idioma trabalhado devem ser removidas. Afinal, caso fossem consideradas na conversão TFiDF, as palavras \"de\" e \"desse\" no primeiro texto teriam o mesmo peso da palavra \"corrupção\" e \"suspeito\", com importância semântica superior.\n",
    "\n",
    "Aqui, optamos também por utilizar apenas as 1000 palavras mais frequentes em ambas as conversões, de modo a limitar o número de características para o treinamento."
   ]
  },
  {
   "cell_type": "code",
   "execution_count": 3,
   "id": "bf09e2bd-e35e-4cef-8849-85397fb0d4a0",
   "metadata": {
    "execution": {
     "iopub.execute_input": "2022-07-15T02:38:26.779536Z",
     "iopub.status.busy": "2022-07-15T02:38:26.779348Z",
     "iopub.status.idle": "2022-07-15T02:38:26.819756Z",
     "shell.execute_reply": "2022-07-15T02:38:26.819203Z"
    },
    "papermill": {
     "duration": 0.055368,
     "end_time": "2022-07-15T02:38:26.822155",
     "exception": false,
     "start_time": "2022-07-15T02:38:26.766787",
     "status": "completed"
    },
    "tags": []
   },
   "outputs": [],
   "source": [
    "vectorizer = Pipeline([\n",
    "    ('count', CountVectorizer()),\n",
    "    ('tfidf', TfidfTransformer())\n",
    "])"
   ]
  },
  {
   "cell_type": "markdown",
   "id": "5ed0a6d1-c85c-4e5a-952a-8ebd72a042dd",
   "metadata": {
    "papermill": {
     "duration": 0.010953,
     "end_time": "2022-07-15T02:38:26.844608",
     "exception": false,
     "start_time": "2022-07-15T02:38:26.833655",
     "status": "completed"
    },
    "tags": []
   },
   "source": [
    "## Modelos de Aprendizagem de Máquina\n",
    "\n",
    "### Regressão Logística\n",
    "\n",
    "A regressão logística, que é um modelo classificador, utiliza uma função logística para calcular as probabilidades de uma notícia ser falsa ou verdadeira. A função logística por trás deste modelo é uma curva sigmoide contendo as probabilidades de classificação em uma determinada categoria (notícia falsa ou verdadeira). A partir disso se encontra um valor limite dentro da curva para que então se obtenham as predições.\n",
    "\n",
    "### KNN\n",
    "\n",
    "Aqui a classificação das notícias em falsas ou verdadeira é feita com base nos K-vizinhos mais próximos (*K-Nearest Neighbors*) a ela. Se utilizamos $K = 10$ e dentre as 10 notícias mais próximas de uma notícia $i$ no nosso espaço dimensional, 6 são falsas e 4 são verdadeiras, esta notícia $i$ será classificada como falsa.\n",
    "\n",
    "### SVC\n",
    "\n",
    "O SVC é um *Support Vector Classifier*, isso é, um algoritmo de classificação que utiliza vetores (dados) como suporte para definir um hiperplano que separe dados de um grupo dos dados de outro grupo. No nosso caso, o SVC busca um hiperplano que separe as matrizes produzidas a partir de notícias falsas daquelas de notícias verdadeiras.\n",
    "\n",
    "O hiperplano pode ser obtido após uma transformação dos dados, na qual eles saem de seu espaço dimensional original, intrínseco, e são levados a um espaço dimensional superior. Essa transformação é feita através através de diversas fórmulas matemáticas para que então o hiperplano ideal - aquele que separa os dados com melhor margem - seja identificado; este é o chamado *kernel trick*.\n",
    "\n",
    "### Random Forest\n",
    "\n",
    "A *Random Forest*, uma floresta aleatória, é um método que faz uso de diversas Árvores de Decisão, *Decision Trees*. As árvores de decisão são aquelas que fazem sucessivas divisões nos dados utilizando as características disponíveis de modo a obter grupos que sejam o mais diferentes entre si e o mais coesos internamente. Exemplo de divisão para separação de grupos: textos que têm a palavra ministro e textos que não têm, textos contendo a palavra corrupção e textos que não tem.\n",
    "\n",
    "Contando então com várias árvores de decisão, a *Floresta*, é um classificador do tipo *ensemble*, pois considera diferentes predições finais para cada texto pelas diferentes árvores. A predição prevalente para um dado texto é então incorporada à saída da *Random Forest*. Como as árvores de decisão não são dependentes entre si, possuindo critérios próprios e não relacionados, a Random Forest minimiza o viés que viria do uso de uma única árvore, se tornando um modelo poderoso.\n",
    "\n",
    "## Busca em Grade\n",
    "\n",
    "Para comparar os diversos modelos foi realizada uma busca em grade pelos melhores hiperparâmetros de cada modelo de acordo com o F1-Score. Para cada modelo foram identificados alguns hiperparâmetros e valores de referência com impacto no desempenho final, conforme atribuídos a seguir:"
   ]
  },
  {
   "cell_type": "code",
   "execution_count": 4,
   "id": "d5295aa6-a2e5-4bc0-b626-fa77a61e3934",
   "metadata": {
    "execution": {
     "iopub.execute_input": "2022-07-15T02:38:26.871553Z",
     "iopub.status.busy": "2022-07-15T02:38:26.871375Z",
     "iopub.status.idle": "2022-07-15T02:38:26.909370Z",
     "shell.execute_reply": "2022-07-15T02:38:26.908828Z"
    },
    "papermill": {
     "duration": 0.054544,
     "end_time": "2022-07-15T02:38:26.911530",
     "exception": false,
     "start_time": "2022-07-15T02:38:26.856986",
     "status": "completed"
    },
    "tags": []
   },
   "outputs": [],
   "source": [
    "models = [{\n",
    "    'name': 'LR',\n",
    "    'model': LogisticRegression(solver='liblinear'),\n",
    "    'parameters':{\n",
    "        'penalty': ['l1', 'l2'],\n",
    "        'C' : np.logspace(-4, 4, 10),\n",
    "    }\n",
    "},{\n",
    "    'name': 'KNN',\n",
    "    'model': KNeighborsClassifier(algorithm='kd_tree'),\n",
    "    'parameters': {\n",
    "        'n_neighbors': np.arange(3, 21, 2),\n",
    "        'weights': ['uniform', 'distance'],\n",
    "        'metric': ['euclidean', 'manhattan'],\n",
    "        # 'algorithm': ['auto', 'ball_tree', 'kd_tree', 'brute']\n",
    "    }\n",
    "},{\n",
    "    'name': 'RF',\n",
    "    'model': RandomForestClassifier(),\n",
    "    'parameters':{\n",
    "        'n_estimators': [200, 500],\n",
    "        'max_features': ['auto', 'sqrt', 'log2'],\n",
    "        'max_depth' : [4,5,6,7,8],\n",
    "        'criterion' :['gini', 'entropy'],\n",
    "        'min_samples_leaf': [1, 2, 4],\n",
    "        'min_samples_split': [2, 5, 10],\n",
    "        'bootstrap': [True, False]\n",
    "    },\n",
    "},{\n",
    "    'name': 'SVC',\n",
    "    'model': SVC(max_iter=10000, gamma='auto', probability=True),\n",
    "    'parameters':{\n",
    "        \"C\": [1e-5, 1e-4, 1e-3, 1, 10, 100, 1000, 1e5]\n",
    "    }\n",
    "},{\n",
    "        'name': 'GB',\n",
    "        'model': GradientBoostingClassifier(),\n",
    "        'parameters':{\n",
    "            'learning_rate': [0.01, 0.025, 0.05, 0.075, 0.1, 0.15, 0.2],\n",
    "            'min_samples_split': np.linspace(0.1, 0.5, 12),\n",
    "            'min_samples_leaf': np.linspace(0.1, 0.5, 12),\n",
    "            'max_depth':[3,5,8],\n",
    "            'max_features':['log2','sqrt'],\n",
    "            'criterion': ['friedman_mse',  'absolute_error'],\n",
    "            'subsample':[0.5, 0.618, 0.8, 0.85, 0.9, 0.95, 1.0],\n",
    "            'n_estimators':[10]\n",
    "    }\n",
    "}]"
   ]
  },
  {
   "cell_type": "markdown",
   "id": "69c5795a-3cb4-4c7a-9be1-aba481d31f3a",
   "metadata": {
    "papermill": {
     "duration": 0.012979,
     "end_time": "2022-07-15T02:38:26.940596",
     "exception": false,
     "start_time": "2022-07-15T02:38:26.927617",
     "status": "completed"
    },
    "tags": []
   },
   "source": [
    "## Redução de Dimensionalidade\n",
    "\n",
    "Quando trabalhamos com texto é natural que o resultado das transformações dos textos em vetores (CountVectorizer, TFiDFVectorizer, etc) seja uma matriz esparsa, pois grande parte das palavras NÃO estará presente em diversos textos. Desse modo, pode ser vantajoso aplicar uma redução de dimensionalidade. Na etapa de transformação, ficamos com mil *features*, referentes às ocorrências das palavras mais frequentes. \n",
    "\n",
    "Agora, usaremos a função TruncatedSVD para reduzir nossa matriz esparsa pela metade, ficando apenas com as ocorrências das A palavras menos esparsas dentre as B mais frequentes. A decomposição em valores singulares (*singular value decomposition*, SVD) transforma a matriz recebida e a leva para um espaço dimensional menor, reduzindo o efeito de sinônimos e palavras similares, as quais são usadas de maneira alternada pelos textos.\n",
    "\n",
    "## Normalização\n",
    "\n",
    "Na normalização os valores são transformados de forma a escala das diferentes características, isso reduz as chances de superestimação ou subestimação de determinadas *features* em função de seus valores padrão. Aqui, foi empregada uma normalização do tipo Z ou padronização, que subtrai a média da distribuição do para cada valor e divide o resultado pelo desvio padrão para aquela característica. Essa é uma maneira de normalizar sem alterar a distribuição das features, seja qual for."
   ]
  },
  {
   "cell_type": "code",
   "execution_count": 5,
   "id": "a20a6091-4dd7-4c95-b821-41008bdd7122",
   "metadata": {
    "execution": {
     "iopub.execute_input": "2022-07-15T02:38:27.175933Z",
     "iopub.status.busy": "2022-07-15T02:38:27.175671Z",
     "iopub.status.idle": "2022-07-15T02:38:27.216472Z",
     "shell.execute_reply": "2022-07-15T02:38:27.215808Z"
    },
    "papermill": {
     "duration": 0.059214,
     "end_time": "2022-07-15T02:38:27.218896",
     "exception": false,
     "start_time": "2022-07-15T02:38:27.159682",
     "status": "completed"
    },
    "tags": []
   },
   "outputs": [],
   "source": [
    "pca = TruncatedSVD()\n",
    "scaler = StandardScaler()"
   ]
  },
  {
   "cell_type": "markdown",
   "id": "7b937107-ad12-44a3-b398-b1a100ef2fa1",
   "metadata": {
    "papermill": {
     "duration": 0.042079,
     "end_time": "2022-07-15T02:38:27.272475",
     "exception": false,
     "start_time": "2022-07-15T02:38:27.230396",
     "status": "completed"
    },
    "tags": []
   },
   "source": [
    "## Conjuntos de dados\n",
    "\n"
   ]
  },
  {
   "cell_type": "code",
   "execution_count": 6,
   "id": "1c4ed80c-23de-43cd-8e99-ab9a7e80462f",
   "metadata": {
    "execution": {
     "iopub.execute_input": "2022-07-15T02:38:27.299628Z",
     "iopub.status.busy": "2022-07-15T02:38:27.298605Z",
     "iopub.status.idle": "2022-07-15T02:38:28.839358Z",
     "shell.execute_reply": "2022-07-15T02:38:28.838782Z"
    },
    "papermill": {
     "duration": 1.556156,
     "end_time": "2022-07-15T02:38:28.841649",
     "exception": false,
     "start_time": "2022-07-15T02:38:27.285493",
     "status": "completed"
    },
    "tags": []
   },
   "outputs": [
    {
     "data": {
      "text/html": [
       "<div>\n",
       "<style scoped>\n",
       "    .dataframe tbody tr th:only-of-type {\n",
       "        vertical-align: middle;\n",
       "    }\n",
       "\n",
       "    .dataframe tbody tr th {\n",
       "        vertical-align: top;\n",
       "    }\n",
       "\n",
       "    .dataframe thead th {\n",
       "        text-align: right;\n",
       "    }\n",
       "</style>\n",
       "<table border=\"1\" class=\"dataframe\">\n",
       "  <thead>\n",
       "    <tr style=\"text-align: right;\">\n",
       "      <th></th>\n",
       "      <th>text</th>\n",
       "      <th>label</th>\n",
       "      <th>lemmatization_plus_stop_words</th>\n",
       "      <th>stemming_plus_stopwords</th>\n",
       "      <th>lemmatization_wo_stopwords</th>\n",
       "      <th>stemming_wo_stopwords</th>\n",
       "    </tr>\n",
       "  </thead>\n",
       "  <tbody>\n",
       "    <tr>\n",
       "      <th>5281</th>\n",
       "      <td>Cortella sobre o muro de Trump: \"Injustiça his...</td>\n",
       "      <td>fake</td>\n",
       "      <td>cortellar sobre o muro de trump injustiça hist...</td>\n",
       "      <td>cortell sobr o mur de trump injustiç histór mu...</td>\n",
       "      <td>cortellar sobre muro trump injustiça histórico...</td>\n",
       "      <td>cortell sobr mur trump injustiç histór mur ver...</td>\n",
       "    </tr>\n",
       "    <tr>\n",
       "      <th>7146</th>\n",
       "      <td>Corte no Bolsa Família para 2016 pode jogar 8 ...</td>\n",
       "      <td>fake</td>\n",
       "      <td>corte em o bolsa família para 2016 poder jogar...</td>\n",
       "      <td>cort no bols famíl par 2016 pod jog 8 milhã de...</td>\n",
       "      <td>corte bolso família 2016 poder jogar 8 milhão ...</td>\n",
       "      <td>cort bols famíl 2016 pod jog 8 milhã pesso pob...</td>\n",
       "    </tr>\n",
       "    <tr>\n",
       "      <th>2330</th>\n",
       "      <td>Coreia do Norte dispara novos mísseis, confirm...</td>\n",
       "      <td>true</td>\n",
       "      <td>coreio de o norte disparar novo míssil confirm...</td>\n",
       "      <td>core do nort disp nov míssel confirm eua segun...</td>\n",
       "      <td>corear norte disparar novo míssil confirmar EU...</td>\n",
       "      <td>core nort disp nov míssel confirm eua segund c...</td>\n",
       "    </tr>\n",
       "    <tr>\n",
       "      <th>6980</th>\n",
       "      <td>Álvaro Dias  O único candidato à presidência ...</td>\n",
       "      <td>fake</td>\n",
       "      <td>álvaro dia  o único candidato a o presidência...</td>\n",
       "      <td>álvar dia  o únic candidat à presid que defen...</td>\n",
       "      <td>álvaro dia  único candidato presidência defen...</td>\n",
       "      <td>álvar dia  únic candidat presid defend fim fo...</td>\n",
       "    </tr>\n",
       "    <tr>\n",
       "      <th>5747</th>\n",
       "      <td>Filha de Dilma terá que devolver os 8 carrões ...</td>\n",
       "      <td>fake</td>\n",
       "      <td>filha de Dilma ter que devolver o 8 carrão bli...</td>\n",
       "      <td>filh de dilm ter que devolv os 8 carr blind e ...</td>\n",
       "      <td>filha dilmo devolver 8 carrão blindar 16 servi...</td>\n",
       "      <td>filh dilm devolv 8 carr blind 16 serv dispos p...</td>\n",
       "    </tr>\n",
       "  </tbody>\n",
       "</table>\n",
       "</div>"
      ],
      "text/plain": [
       "                                                   text label  \\\n",
       "5281  Cortella sobre o muro de Trump: \"Injustiça his...  fake   \n",
       "7146  Corte no Bolsa Família para 2016 pode jogar 8 ...  fake   \n",
       "2330  Coreia do Norte dispara novos mísseis, confirm...  true   \n",
       "6980  Álvaro Dias  O único candidato à presidência ...  fake   \n",
       "5747  Filha de Dilma terá que devolver os 8 carrões ...  fake   \n",
       "\n",
       "                          lemmatization_plus_stop_words  \\\n",
       "5281  cortellar sobre o muro de trump injustiça hist...   \n",
       "7146  corte em o bolsa família para 2016 poder jogar...   \n",
       "2330  coreio de o norte disparar novo míssil confirm...   \n",
       "6980  álvaro dia  o único candidato a o presidência...   \n",
       "5747  filha de Dilma ter que devolver o 8 carrão bli...   \n",
       "\n",
       "                                stemming_plus_stopwords  \\\n",
       "5281  cortell sobr o mur de trump injustiç histór mu...   \n",
       "7146  cort no bols famíl par 2016 pod jog 8 milhã de...   \n",
       "2330  core do nort disp nov míssel confirm eua segun...   \n",
       "6980  álvar dia  o únic candidat à presid que defen...   \n",
       "5747  filh de dilm ter que devolv os 8 carr blind e ...   \n",
       "\n",
       "                             lemmatization_wo_stopwords  \\\n",
       "5281  cortellar sobre muro trump injustiça histórico...   \n",
       "7146  corte bolso família 2016 poder jogar 8 milhão ...   \n",
       "2330  corear norte disparar novo míssil confirmar EU...   \n",
       "6980  álvaro dia  único candidato presidência defen...   \n",
       "5747  filha dilmo devolver 8 carrão blindar 16 servi...   \n",
       "\n",
       "                                  stemming_wo_stopwords  \n",
       "5281  cortell sobr mur trump injustiç histór mur ver...  \n",
       "7146  cort bols famíl 2016 pod jog 8 milhã pesso pob...  \n",
       "2330  core nort disp nov míssel confirm eua segund c...  \n",
       "6980  álvar dia  únic candidat presid defend fim fo...  \n",
       "5747  filh dilm devolv 8 carr blind 16 serv dispos p...  "
      ]
     },
     "execution_count": 6,
     "metadata": {},
     "output_type": "execute_result"
    }
   ],
   "source": [
    "df = pd.read_csv('../data/processed/textos_pre-processados.csv')\n",
    "df.sample(5)"
   ]
  },
  {
   "cell_type": "markdown",
   "id": "5b417a4e-e5df-41b2-ad1a-8cb045ffe0fb",
   "metadata": {
    "papermill": {
     "duration": 0.012527,
     "end_time": "2022-07-15T02:38:28.867351",
     "exception": false,
     "start_time": "2022-07-15T02:38:28.854824",
     "status": "completed"
    },
    "tags": []
   },
   "source": [
    "## Validação Cruzada\n",
    "\n",
    "Para testar a robustez dos modelos, a validação cruzada foi feita sobre 10 divisões aleatórias dos dados, conservando 80% deles para o conjunto de treinamento e 20% para teste. Ao final, os escores de avaliação (acurácia, F1-score) obtidos foram armazenados em uma variável *results* para posterior análise.\n",
    "\n",
    "### Acurácia\n",
    "\n",
    "Esta medida de avaliação considera os acertos que o modelo realizou, sejam eles ao classificar notícias falsas como falsas ou notícias verdadeiras como verdadeiras. Todos os acertos são computados e calculados em forma de porcentagem em relação ao número total de dados. Esta é uma métrica interessante quando ambas as categorias são igualmente importantes.\n",
    "\n",
    "### F1\n",
    "\n",
    "No nosso caso, como detector de notícias falsas, pode ser mais interessante, caso seja necessário, priorizar modelos que tenham melhor desempenho em corretamente rotular notícias falsas. Nesse caso, o *F1-score* é uma boa medida para a avaliação dos erros (falsos positivos e falsos negativos) e será dado pela média harmônica entre precisão e sensibilidade. No nosso caso:\n",
    "\n",
    "- Precisão\n",
    "> Proporção dada pelo # de notícias falsas corretamente classificadas como falsas e o # total de notícias classificadas como falsas.\n",
    "- Sensibilidade\n",
    "> Proporção dada pelo # de notícias corretamente classificadas como falsas dividido pelo # notícias realmente falsas. "
   ]
  },
  {
   "cell_type": "code",
   "execution_count": 7,
   "id": "c98f22c5-530f-471a-b83a-d3155b2c7d7a",
   "metadata": {
    "execution": {
     "iopub.execute_input": "2022-07-15T02:38:28.894270Z",
     "iopub.status.busy": "2022-07-15T02:38:28.894081Z",
     "iopub.status.idle": "2022-07-15T10:48:12.806459Z",
     "shell.execute_reply": "2022-07-15T10:48:12.804206Z"
    },
    "papermill": {
     "duration": 29383.931619,
     "end_time": "2022-07-15T10:48:12.811825",
     "exception": false,
     "start_time": "2022-07-15T02:38:28.880206",
     "status": "completed"
    },
    "tags": []
   },
   "outputs": [
    {
     "name": "stdout",
     "output_type": "stream",
     "text": [
      "running text-LR\n",
      "running text-KNN\n",
      "running text-SVC\n",
      "running text-RF\n",
      "running lemmatization_plus_stop_words-LR\n"
     ]
    },
    {
     "name": "stderr",
     "output_type": "stream",
     "text": [
      "/storages/caico/home/taynafiuza/.cache/pypoetry/virtualenvs/src-ahMoboP9-py3.8/lib/python3.8/site-packages/sklearn/svm/_base.py:1206: ConvergenceWarning: Liblinear failed to converge, increase the number of iterations.\n",
      "  warnings.warn(\n",
      "/storages/caico/home/taynafiuza/.cache/pypoetry/virtualenvs/src-ahMoboP9-py3.8/lib/python3.8/site-packages/sklearn/svm/_base.py:1206: ConvergenceWarning: Liblinear failed to converge, increase the number of iterations.\n",
      "  warnings.warn(\n",
      "/storages/caico/home/taynafiuza/.cache/pypoetry/virtualenvs/src-ahMoboP9-py3.8/lib/python3.8/site-packages/sklearn/svm/_base.py:1206: ConvergenceWarning: Liblinear failed to converge, increase the number of iterations.\n",
      "  warnings.warn(\n",
      "/storages/caico/home/taynafiuza/.cache/pypoetry/virtualenvs/src-ahMoboP9-py3.8/lib/python3.8/site-packages/sklearn/svm/_base.py:1206: ConvergenceWarning: Liblinear failed to converge, increase the number of iterations.\n",
      "  warnings.warn(\n",
      "/storages/caico/home/taynafiuza/.cache/pypoetry/virtualenvs/src-ahMoboP9-py3.8/lib/python3.8/site-packages/sklearn/svm/_base.py:1206: ConvergenceWarning: Liblinear failed to converge, increase the number of iterations.\n",
      "  warnings.warn(\n",
      "/storages/caico/home/taynafiuza/.cache/pypoetry/virtualenvs/src-ahMoboP9-py3.8/lib/python3.8/site-packages/sklearn/svm/_base.py:1206: ConvergenceWarning: Liblinear failed to converge, increase the number of iterations.\n",
      "  warnings.warn(\n",
      "/storages/caico/home/taynafiuza/.cache/pypoetry/virtualenvs/src-ahMoboP9-py3.8/lib/python3.8/site-packages/sklearn/svm/_base.py:1206: ConvergenceWarning: Liblinear failed to converge, increase the number of iterations.\n",
      "  warnings.warn(\n",
      "/storages/caico/home/taynafiuza/.cache/pypoetry/virtualenvs/src-ahMoboP9-py3.8/lib/python3.8/site-packages/sklearn/svm/_base.py:1206: ConvergenceWarning: Liblinear failed to converge, increase the number of iterations.\n",
      "  warnings.warn(\n",
      "/storages/caico/home/taynafiuza/.cache/pypoetry/virtualenvs/src-ahMoboP9-py3.8/lib/python3.8/site-packages/sklearn/svm/_base.py:1206: ConvergenceWarning: Liblinear failed to converge, increase the number of iterations.\n",
      "  warnings.warn(\n",
      "/storages/caico/home/taynafiuza/.cache/pypoetry/virtualenvs/src-ahMoboP9-py3.8/lib/python3.8/site-packages/sklearn/svm/_base.py:1206: ConvergenceWarning: Liblinear failed to converge, increase the number of iterations.\n",
      "  warnings.warn(\n"
     ]
    },
    {
     "name": "stdout",
     "output_type": "stream",
     "text": [
      "running lemmatization_plus_stop_words-KNN\n",
      "running lemmatization_plus_stop_words-SVC\n",
      "running lemmatization_plus_stop_words-RF\n",
      "running stemming_plus_stopwords-LR\n"
     ]
    },
    {
     "name": "stderr",
     "output_type": "stream",
     "text": [
      "/storages/caico/home/taynafiuza/.cache/pypoetry/virtualenvs/src-ahMoboP9-py3.8/lib/python3.8/site-packages/sklearn/svm/_base.py:1206: ConvergenceWarning: Liblinear failed to converge, increase the number of iterations.\n",
      "  warnings.warn(\n",
      "/storages/caico/home/taynafiuza/.cache/pypoetry/virtualenvs/src-ahMoboP9-py3.8/lib/python3.8/site-packages/sklearn/svm/_base.py:1206: ConvergenceWarning: Liblinear failed to converge, increase the number of iterations.\n",
      "  warnings.warn(\n",
      "/storages/caico/home/taynafiuza/.cache/pypoetry/virtualenvs/src-ahMoboP9-py3.8/lib/python3.8/site-packages/sklearn/svm/_base.py:1206: ConvergenceWarning: Liblinear failed to converge, increase the number of iterations.\n",
      "  warnings.warn(\n",
      "/storages/caico/home/taynafiuza/.cache/pypoetry/virtualenvs/src-ahMoboP9-py3.8/lib/python3.8/site-packages/sklearn/svm/_base.py:1206: ConvergenceWarning: Liblinear failed to converge, increase the number of iterations.\n",
      "  warnings.warn(\n",
      "/storages/caico/home/taynafiuza/.cache/pypoetry/virtualenvs/src-ahMoboP9-py3.8/lib/python3.8/site-packages/sklearn/svm/_base.py:1206: ConvergenceWarning: Liblinear failed to converge, increase the number of iterations.\n",
      "  warnings.warn(\n",
      "/storages/caico/home/taynafiuza/.cache/pypoetry/virtualenvs/src-ahMoboP9-py3.8/lib/python3.8/site-packages/sklearn/svm/_base.py:1206: ConvergenceWarning: Liblinear failed to converge, increase the number of iterations.\n",
      "  warnings.warn(\n",
      "/storages/caico/home/taynafiuza/.cache/pypoetry/virtualenvs/src-ahMoboP9-py3.8/lib/python3.8/site-packages/sklearn/svm/_base.py:1206: ConvergenceWarning: Liblinear failed to converge, increase the number of iterations.\n",
      "  warnings.warn(\n",
      "/storages/caico/home/taynafiuza/.cache/pypoetry/virtualenvs/src-ahMoboP9-py3.8/lib/python3.8/site-packages/sklearn/svm/_base.py:1206: ConvergenceWarning: Liblinear failed to converge, increase the number of iterations.\n",
      "  warnings.warn(\n",
      "/storages/caico/home/taynafiuza/.cache/pypoetry/virtualenvs/src-ahMoboP9-py3.8/lib/python3.8/site-packages/sklearn/svm/_base.py:1206: ConvergenceWarning: Liblinear failed to converge, increase the number of iterations.\n",
      "  warnings.warn(\n"
     ]
    },
    {
     "name": "stdout",
     "output_type": "stream",
     "text": [
      "running stemming_plus_stopwords-KNN\n",
      "running stemming_plus_stopwords-SVC\n",
      "running stemming_plus_stopwords-RF\n",
      "running lemmatization_wo_stopwords-LR\n",
      "running lemmatization_wo_stopwords-KNN\n",
      "running lemmatization_wo_stopwords-SVC\n",
      "running lemmatization_wo_stopwords-RF\n",
      "running stemming_wo_stopwords-LR\n",
      "running stemming_wo_stopwords-KNN\n",
      "running stemming_wo_stopwords-SVC\n",
      "running stemming_wo_stopwords-RF\n"
     ]
    }
   ],
   "source": [
    "n_splits_cv = 10\n",
    "n_splits_cv_grid_search = 5\n",
    "model_scores = []\n",
    "\n",
    "dataset_names = ['text', 'lemmatization_plus_stop_words', 'stemming_plus_stopwords', 'lemmatization_wo_stopwords', 'stemming_wo_stopwords']\n",
    "for dataset_name in dataset_names:\n",
    "    corpus = df[dataset_name].to_list()\n",
    "    #label_encoder = LabelEncoder()\n",
    "    #labels = label_encoder.fit_transform(df.label)\n",
    "    labels = df.label.replace({\"true\": 1, \"fake\": 0})\n",
    "    for model in models:\n",
    "        approach_name = f\"{dataset_name}-{model['name']}\"\n",
    "        print(f\"running {approach_name}\")\n",
    "        param_grid = {\n",
    "            'vectorizer__tfidf__use_idf': [False, True],\n",
    "            'vectorizer__count__max_features': [1000, 2000],\n",
    "            'pca__n_components': [100, 200, 500],\n",
    "            **{f\"model__{key}\": value for key, value in model['parameters'].items()}\n",
    "        }\n",
    "        approach = Pipeline([\n",
    "            (\"vectorizer\", vectorizer),\n",
    "            (\"pca\", pca),\n",
    "            (\"normalize\", scaler),\n",
    "            ('model', model['model'])\n",
    "        ])\n",
    "\n",
    "        gs = RandomizedSearchCV(\n",
    "            estimator=approach,\n",
    "            param_distributions=param_grid,\n",
    "            scoring='f1',\n",
    "            cv=n_splits_cv_grid_search,\n",
    "            random_state=24\n",
    "        )\n",
    "\n",
    "        scores = cross_validate(\n",
    "            estimator=gs,\n",
    "            X=corpus,\n",
    "            y=labels,\n",
    "            cv=ShuffleSplit(n_splits=n_splits_cv, test_size=.2),\n",
    "            n_jobs=35,\n",
    "            scoring=['accuracy', 'precision', 'recall','f1', 'roc_auc'],\n",
    "        )\n",
    "        scores['model'] = [approach_name] * n_splits_cv\n",
    "        model_scores.append(scores)"
   ]
  },
  {
   "cell_type": "code",
   "execution_count": 8,
   "id": "0cd4b944-1103-4283-8f5a-db50b9d9d890",
   "metadata": {
    "execution": {
     "iopub.execute_input": "2022-07-15T10:48:12.861776Z",
     "iopub.status.busy": "2022-07-15T10:48:12.861202Z",
     "iopub.status.idle": "2022-07-15T10:48:14.001057Z",
     "shell.execute_reply": "2022-07-15T10:48:14.000100Z"
    },
    "papermill": {
     "duration": 1.168222,
     "end_time": "2022-07-15T10:48:14.003887",
     "exception": false,
     "start_time": "2022-07-15T10:48:12.835665",
     "status": "completed"
    },
    "tags": []
   },
   "outputs": [],
   "source": [
    "organize.save_object(model_scores, '../data/processed/model_scores.pkl')"
   ]
  },
  {
   "cell_type": "markdown",
   "id": "ee935b49-a6f9-49fc-a3cb-edc97c5dc6d1",
   "metadata": {
    "papermill": {
     "duration": 0.019707,
     "end_time": "2022-07-15T10:48:14.038192",
     "exception": false,
     "start_time": "2022-07-15T10:48:14.018485",
     "status": "completed"
    },
    "tags": []
   },
   "source": [
    "## Comparação dos modelos\n",
    "### Tabela\n",
    "\n",
    "Em que os resultados são agrupados de acordo com os modelos e são calculadas média e desvio padrão dos M modelos gerados para cada combinação parâmetros, conjunto de dados e método de aprendizagem de máquina."
   ]
  },
  {
   "cell_type": "code",
   "execution_count": 9,
   "id": "f75459c2-5944-489c-a29c-a5763bec1c1a",
   "metadata": {
    "execution": {
     "iopub.execute_input": "2022-07-15T10:48:14.079957Z",
     "iopub.status.busy": "2022-07-15T10:48:14.079446Z",
     "iopub.status.idle": "2022-07-15T10:48:14.181309Z",
     "shell.execute_reply": "2022-07-15T10:48:14.179633Z"
    },
    "papermill": {
     "duration": 0.127376,
     "end_time": "2022-07-15T10:48:14.185363",
     "exception": false,
     "start_time": "2022-07-15T10:48:14.057987",
     "status": "completed"
    },
    "tags": []
   },
   "outputs": [],
   "source": [
    "scores = organize.concatenate(*model_scores)"
   ]
  },
  {
   "cell_type": "code",
   "execution_count": 10,
   "id": "15c8b1f1-861a-4095-a381-23681e7fcc74",
   "metadata": {
    "execution": {
     "iopub.execute_input": "2022-07-15T10:48:14.224203Z",
     "iopub.status.busy": "2022-07-15T10:48:14.223434Z",
     "iopub.status.idle": "2022-07-15T10:48:14.378173Z",
     "shell.execute_reply": "2022-07-15T10:48:14.376946Z"
    },
    "papermill": {
     "duration": 0.17995,
     "end_time": "2022-07-15T10:48:14.381926",
     "exception": false,
     "start_time": "2022-07-15T10:48:14.201976",
     "status": "completed"
    },
    "tags": []
   },
   "outputs": [],
   "source": [
    "results = (\n",
    "    pd\n",
    "    .DataFrame(scores)\n",
    "    .groupby(['model'])\n",
    "    .agg([lambda x: f\"{np.mean(x):.3f} ± {np.std(x):.3f}\"])#\n",
    "    .transpose()\n",
    "    .reset_index()\n",
    "    .rename(columns={\"level_0\": \"score\"})\n",
    "    .drop(columns=\"level_1\")    \n",
    ")"
   ]
  },
  {
   "cell_type": "markdown",
   "id": "7c2641f9-d991-4f60-9089-121b010c0b2e",
   "metadata": {
    "papermill": {
     "duration": 0.019615,
     "end_time": "2022-07-15T10:48:14.420064",
     "exception": false,
     "start_time": "2022-07-15T10:48:14.400449",
     "status": "completed"
    },
    "tags": []
   },
   "source": [
    "Nesta tabela temos informações relacionadas a:\n",
    "- **Fit Time**: Tempo gasto na adequação do modelo ao conjunto de treino.\n",
    "- **Score Time**: Tempo gasto para avaliação do modelo com o conjunto teste.\n",
    "- **Test Accuracy**: Acurácia do modelo frente ao conjunto teste.\n",
    "- **Test F1**: F1 score do modelo frente ao conjunto teste.\n",
    "\n",
    "As células que computam estas métricas em seu máximo valor estão coloridas."
   ]
  },
  {
   "cell_type": "markdown",
   "id": "74f44cb2-fb4e-4418-9d06-7579d394dcdd",
   "metadata": {
    "papermill": {
     "duration": 0.01956,
     "end_time": "2022-07-15T10:48:14.454954",
     "exception": false,
     "start_time": "2022-07-15T10:48:14.435394",
     "status": "completed"
    },
    "tags": []
   },
   "source": [
    "### Figura\n",
    "\n",
    "Para produzir a figura os dados provenientes dos resultados passaram por uma pequena modificação para que cada método de aprendizado e cada vetorizador ficasse em uma coluna específica."
   ]
  },
  {
   "cell_type": "code",
   "execution_count": 11,
   "id": "8df1aa2d-5f8c-4ae0-977c-8ad176ce1451",
   "metadata": {
    "execution": {
     "iopub.execute_input": "2022-07-15T10:48:14.495976Z",
     "iopub.status.busy": "2022-07-15T10:48:14.495625Z",
     "iopub.status.idle": "2022-07-15T10:48:14.566656Z",
     "shell.execute_reply": "2022-07-15T10:48:14.565596Z"
    },
    "papermill": {
     "duration": 0.095595,
     "end_time": "2022-07-15T10:48:14.570160",
     "exception": false,
     "start_time": "2022-07-15T10:48:14.474565",
     "status": "completed"
    },
    "tags": []
   },
   "outputs": [
    {
     "data": {
      "text/html": [
       "<div>\n",
       "<style scoped>\n",
       "    .dataframe tbody tr th:only-of-type {\n",
       "        vertical-align: middle;\n",
       "    }\n",
       "\n",
       "    .dataframe tbody tr th {\n",
       "        vertical-align: top;\n",
       "    }\n",
       "\n",
       "    .dataframe thead th {\n",
       "        text-align: right;\n",
       "    }\n",
       "</style>\n",
       "<table border=\"1\" class=\"dataframe\">\n",
       "  <thead>\n",
       "    <tr style=\"text-align: right;\">\n",
       "      <th></th>\n",
       "      <th>fit_time</th>\n",
       "      <th>score_time</th>\n",
       "      <th>test_accuracy</th>\n",
       "      <th>test_precision</th>\n",
       "      <th>test_recall</th>\n",
       "      <th>test_f1</th>\n",
       "      <th>test_roc_auc</th>\n",
       "      <th>model</th>\n",
       "    </tr>\n",
       "  </thead>\n",
       "  <tbody>\n",
       "    <tr>\n",
       "      <th>0</th>\n",
       "      <td>821.853969</td>\n",
       "      <td>2.250186</td>\n",
       "      <td>0.952083</td>\n",
       "      <td>0.941497</td>\n",
       "      <td>0.963788</td>\n",
       "      <td>0.952512</td>\n",
       "      <td>0.986611</td>\n",
       "      <td>text-LR</td>\n",
       "    </tr>\n",
       "    <tr>\n",
       "      <th>1</th>\n",
       "      <td>852.746867</td>\n",
       "      <td>1.510833</td>\n",
       "      <td>0.950000</td>\n",
       "      <td>0.941094</td>\n",
       "      <td>0.957204</td>\n",
       "      <td>0.949081</td>\n",
       "      <td>0.989676</td>\n",
       "      <td>text-LR</td>\n",
       "    </tr>\n",
       "    <tr>\n",
       "      <th>2</th>\n",
       "      <td>871.174541</td>\n",
       "      <td>1.667850</td>\n",
       "      <td>0.951389</td>\n",
       "      <td>0.949509</td>\n",
       "      <td>0.952180</td>\n",
       "      <td>0.950843</td>\n",
       "      <td>0.989350</td>\n",
       "      <td>text-LR</td>\n",
       "    </tr>\n",
       "    <tr>\n",
       "      <th>3</th>\n",
       "      <td>852.364620</td>\n",
       "      <td>1.577384</td>\n",
       "      <td>0.960417</td>\n",
       "      <td>0.961696</td>\n",
       "      <td>0.960383</td>\n",
       "      <td>0.961039</td>\n",
       "      <td>0.988521</td>\n",
       "      <td>text-LR</td>\n",
       "    </tr>\n",
       "    <tr>\n",
       "      <th>4</th>\n",
       "      <td>834.534324</td>\n",
       "      <td>2.261811</td>\n",
       "      <td>0.951389</td>\n",
       "      <td>0.946058</td>\n",
       "      <td>0.956643</td>\n",
       "      <td>0.951321</td>\n",
       "      <td>0.987420</td>\n",
       "      <td>text-LR</td>\n",
       "    </tr>\n",
       "    <tr>\n",
       "      <th>...</th>\n",
       "      <td>...</td>\n",
       "      <td>...</td>\n",
       "      <td>...</td>\n",
       "      <td>...</td>\n",
       "      <td>...</td>\n",
       "      <td>...</td>\n",
       "      <td>...</td>\n",
       "      <td>...</td>\n",
       "    </tr>\n",
       "    <tr>\n",
       "      <th>595</th>\n",
       "      <td>2155.487590</td>\n",
       "      <td>1.167288</td>\n",
       "      <td>0.904861</td>\n",
       "      <td>0.928467</td>\n",
       "      <td>0.878453</td>\n",
       "      <td>0.902768</td>\n",
       "      <td>0.960873</td>\n",
       "      <td>stemming_wo_stopwords-RF</td>\n",
       "    </tr>\n",
       "    <tr>\n",
       "      <th>596</th>\n",
       "      <td>2205.132310</td>\n",
       "      <td>1.558663</td>\n",
       "      <td>0.916667</td>\n",
       "      <td>0.936416</td>\n",
       "      <td>0.895028</td>\n",
       "      <td>0.915254</td>\n",
       "      <td>0.974413</td>\n",
       "      <td>stemming_wo_stopwords-RF</td>\n",
       "    </tr>\n",
       "    <tr>\n",
       "      <th>597</th>\n",
       "      <td>2140.099336</td>\n",
       "      <td>1.512043</td>\n",
       "      <td>0.914583</td>\n",
       "      <td>0.939169</td>\n",
       "      <td>0.885315</td>\n",
       "      <td>0.911447</td>\n",
       "      <td>0.966686</td>\n",
       "      <td>stemming_wo_stopwords-RF</td>\n",
       "    </tr>\n",
       "    <tr>\n",
       "      <th>598</th>\n",
       "      <td>2133.297572</td>\n",
       "      <td>1.816486</td>\n",
       "      <td>0.920139</td>\n",
       "      <td>0.927273</td>\n",
       "      <td>0.913223</td>\n",
       "      <td>0.920194</td>\n",
       "      <td>0.969404</td>\n",
       "      <td>stemming_wo_stopwords-RF</td>\n",
       "    </tr>\n",
       "    <tr>\n",
       "      <th>599</th>\n",
       "      <td>2149.535171</td>\n",
       "      <td>1.550933</td>\n",
       "      <td>0.925000</td>\n",
       "      <td>0.941011</td>\n",
       "      <td>0.910326</td>\n",
       "      <td>0.925414</td>\n",
       "      <td>0.973834</td>\n",
       "      <td>stemming_wo_stopwords-RF</td>\n",
       "    </tr>\n",
       "  </tbody>\n",
       "</table>\n",
       "<p>600 rows × 8 columns</p>\n",
       "</div>"
      ],
      "text/plain": [
       "        fit_time  score_time  test_accuracy  test_precision  test_recall  \\\n",
       "0     821.853969    2.250186       0.952083        0.941497     0.963788   \n",
       "1     852.746867    1.510833       0.950000        0.941094     0.957204   \n",
       "2     871.174541    1.667850       0.951389        0.949509     0.952180   \n",
       "3     852.364620    1.577384       0.960417        0.961696     0.960383   \n",
       "4     834.534324    2.261811       0.951389        0.946058     0.956643   \n",
       "..           ...         ...            ...             ...          ...   \n",
       "595  2155.487590    1.167288       0.904861        0.928467     0.878453   \n",
       "596  2205.132310    1.558663       0.916667        0.936416     0.895028   \n",
       "597  2140.099336    1.512043       0.914583        0.939169     0.885315   \n",
       "598  2133.297572    1.816486       0.920139        0.927273     0.913223   \n",
       "599  2149.535171    1.550933       0.925000        0.941011     0.910326   \n",
       "\n",
       "      test_f1  test_roc_auc                     model  \n",
       "0    0.952512      0.986611                   text-LR  \n",
       "1    0.949081      0.989676                   text-LR  \n",
       "2    0.950843      0.989350                   text-LR  \n",
       "3    0.961039      0.988521                   text-LR  \n",
       "4    0.951321      0.987420                   text-LR  \n",
       "..        ...           ...                       ...  \n",
       "595  0.902768      0.960873  stemming_wo_stopwords-RF  \n",
       "596  0.915254      0.974413  stemming_wo_stopwords-RF  \n",
       "597  0.911447      0.966686  stemming_wo_stopwords-RF  \n",
       "598  0.920194      0.969404  stemming_wo_stopwords-RF  \n",
       "599  0.925414      0.973834  stemming_wo_stopwords-RF  \n",
       "\n",
       "[600 rows x 8 columns]"
      ]
     },
     "execution_count": 11,
     "metadata": {},
     "output_type": "execute_result"
    }
   ],
   "source": [
    "results_df = (\n",
    "    pd\n",
    "    .DataFrame(scores)\n",
    ")\n",
    "results_df"
   ]
  },
  {
   "cell_type": "code",
   "execution_count": 12,
   "id": "358158a2-e76a-4c0c-b33b-323659598f29",
   "metadata": {
    "execution": {
     "iopub.execute_input": "2022-07-15T10:48:14.605394Z",
     "iopub.status.busy": "2022-07-15T10:48:14.605069Z",
     "iopub.status.idle": "2022-07-15T10:48:16.795204Z",
     "shell.execute_reply": "2022-07-15T10:48:16.794258Z"
    },
    "papermill": {
     "duration": 2.212322,
     "end_time": "2022-07-15T10:48:16.797768",
     "exception": false,
     "start_time": "2022-07-15T10:48:14.585446",
     "status": "completed"
    },
    "tags": []
   },
   "outputs": [
    {
     "data": {
      "image/png": "[encoded data removed]",
      "text/plain": [
       "<Figure size 1080x576 with 2 Axes>"
      ]
     },
     "metadata": {
      "needs_background": "light"
     },
     "output_type": "display_data"
    }
   ],
   "source": [
    "fig, (ax1, ax2) = plt.subplots(1,2, figsize=(15,8))\n",
    "fig.suptitle('Acurácia e Escore F1 dos modelos', fontsize=16)\n",
    "\n",
    "sns.barplot(x=\"test_accuracy\", y=\"model\", palette=\"colorblind\",\n",
    "            data=results_df, ax=ax1)\n",
    "ax1.set_title(\"Acurácia\")\n",
    "ax1.set(xlabel=None, ylabel=None)\n",
    "\n",
    "sns.barplot(x=\"test_f1\", y=\"model\", palette=\"colorblind\",\n",
    "            data=results_df, ax=ax2)\n",
    "ax2.set_title(\"F1-Score\")\n",
    "ax2.set(xlabel=None, ylabel=None)\n",
    "ax2.set_yticks([])\n",
    "\n",
    "plt.show()"
   ]
  },
  {
   "cell_type": "markdown",
   "id": "69c6b7a2-d315-4fe1-9be8-2ecda2b8a8e7",
   "metadata": {
    "papermill": {
     "duration": 0.017887,
     "end_time": "2022-07-15T10:48:16.836342",
     "exception": false,
     "start_time": "2022-07-15T10:48:16.818455",
     "status": "completed"
    },
    "tags": []
   },
   "source": [
    "## Melhores resultados\n",
    "\n",
    "### Conjunto de dados x tipo de modelo"
   ]
  },
  {
   "cell_type": "code",
   "execution_count": 13,
   "id": "1652daab-44fc-4b96-b37c-b15b4405b777",
   "metadata": {
    "execution": {
     "iopub.execute_input": "2022-07-15T10:48:16.873537Z",
     "iopub.status.busy": "2022-07-15T10:48:16.873292Z",
     "iopub.status.idle": "2022-07-15T10:48:17.058340Z",
     "shell.execute_reply": "2022-07-15T10:48:17.057175Z"
    },
    "papermill": {
     "duration": 0.207631,
     "end_time": "2022-07-15T10:48:17.061235",
     "exception": false,
     "start_time": "2022-07-15T10:48:16.853604",
     "status": "completed"
    },
    "tags": []
   },
   "outputs": [
    {
     "data": {
      "text/html": [
       "<style type=\"text/css\">\n",
       "#T_310e8_row0_col6, #T_310e8_row1_col6, #T_310e8_row2_col8, #T_310e8_row3_col8, #T_310e8_row4_col1, #T_310e8_row5_col8, #T_310e8_row6_col8 {\n",
       "  color: white;\n",
       "  background-color: blue;\n",
       "}\n",
       "</style>\n",
       "<table id=\"T_310e8\">\n",
       "  <thead>\n",
       "    <tr>\n",
       "      <th id=\"T_310e8_level0_col0\" class=\"col_heading level0 col0\" >score</th>\n",
       "      <th id=\"T_310e8_level0_col1\" class=\"col_heading level0 col1\" >lemmatization_plus_stop_words-KNN</th>\n",
       "      <th id=\"T_310e8_level0_col2\" class=\"col_heading level0 col2\" >lemmatization_plus_stop_words-LR</th>\n",
       "      <th id=\"T_310e8_level0_col3\" class=\"col_heading level0 col3\" >lemmatization_plus_stop_words-RF</th>\n",
       "      <th id=\"T_310e8_level0_col4\" class=\"col_heading level0 col4\" >lemmatization_plus_stop_words-SVC</th>\n",
       "      <th id=\"T_310e8_level0_col5\" class=\"col_heading level0 col5\" >lemmatization_wo_stopwords-KNN</th>\n",
       "      <th id=\"T_310e8_level0_col6\" class=\"col_heading level0 col6\" >lemmatization_wo_stopwords-LR</th>\n",
       "      <th id=\"T_310e8_level0_col7\" class=\"col_heading level0 col7\" >lemmatization_wo_stopwords-RF</th>\n",
       "      <th id=\"T_310e8_level0_col8\" class=\"col_heading level0 col8\" >lemmatization_wo_stopwords-SVC</th>\n",
       "      <th id=\"T_310e8_level0_col9\" class=\"col_heading level0 col9\" >stemming_plus_stopwords-KNN</th>\n",
       "      <th id=\"T_310e8_level0_col10\" class=\"col_heading level0 col10\" >stemming_plus_stopwords-LR</th>\n",
       "      <th id=\"T_310e8_level0_col11\" class=\"col_heading level0 col11\" >stemming_plus_stopwords-RF</th>\n",
       "      <th id=\"T_310e8_level0_col12\" class=\"col_heading level0 col12\" >stemming_plus_stopwords-SVC</th>\n",
       "      <th id=\"T_310e8_level0_col13\" class=\"col_heading level0 col13\" >stemming_wo_stopwords-KNN</th>\n",
       "      <th id=\"T_310e8_level0_col14\" class=\"col_heading level0 col14\" >stemming_wo_stopwords-LR</th>\n",
       "      <th id=\"T_310e8_level0_col15\" class=\"col_heading level0 col15\" >stemming_wo_stopwords-RF</th>\n",
       "      <th id=\"T_310e8_level0_col16\" class=\"col_heading level0 col16\" >stemming_wo_stopwords-SVC</th>\n",
       "      <th id=\"T_310e8_level0_col17\" class=\"col_heading level0 col17\" >text-KNN</th>\n",
       "      <th id=\"T_310e8_level0_col18\" class=\"col_heading level0 col18\" >text-LR</th>\n",
       "      <th id=\"T_310e8_level0_col19\" class=\"col_heading level0 col19\" >text-RF</th>\n",
       "      <th id=\"T_310e8_level0_col20\" class=\"col_heading level0 col20\" >text-SVC</th>\n",
       "    </tr>\n",
       "  </thead>\n",
       "  <tbody>\n",
       "    <tr>\n",
       "      <td id=\"T_310e8_row0_col0\" class=\"data row0 col0\" >fit_time</td>\n",
       "      <td id=\"T_310e8_row0_col1\" class=\"data row0 col1\" >994.033 ± 66.359</td>\n",
       "      <td id=\"T_310e8_row0_col2\" class=\"data row0 col2\" >1331.173 ± 211.385</td>\n",
       "      <td id=\"T_310e8_row0_col3\" class=\"data row0 col3\" >2294.896 ± 40.314</td>\n",
       "      <td id=\"T_310e8_row0_col4\" class=\"data row0 col4\" >1044.035 ± 43.945</td>\n",
       "      <td id=\"T_310e8_row0_col5\" class=\"data row0 col5\" >930.980 ± 20.156</td>\n",
       "      <td id=\"T_310e8_row0_col6\" class=\"data row0 col6\" >761.416 ± 37.668</td>\n",
       "      <td id=\"T_310e8_row0_col7\" class=\"data row0 col7\" >2205.831 ± 54.228</td>\n",
       "      <td id=\"T_310e8_row0_col8\" class=\"data row0 col8\" >1482.353 ± 66.510</td>\n",
       "      <td id=\"T_310e8_row0_col9\" class=\"data row0 col9\" >1016.787 ± 81.687</td>\n",
       "      <td id=\"T_310e8_row0_col10\" class=\"data row0 col10\" >995.716 ± 80.045</td>\n",
       "      <td id=\"T_310e8_row0_col11\" class=\"data row0 col11\" >2308.192 ± 44.791</td>\n",
       "      <td id=\"T_310e8_row0_col12\" class=\"data row0 col12\" >1164.840 ± 41.503</td>\n",
       "      <td id=\"T_310e8_row0_col13\" class=\"data row0 col13\" >924.553 ± 41.516</td>\n",
       "      <td id=\"T_310e8_row0_col14\" class=\"data row0 col14\" >780.211 ± 41.230</td>\n",
       "      <td id=\"T_310e8_row0_col15\" class=\"data row0 col15\" >2207.477 ± 44.600</td>\n",
       "      <td id=\"T_310e8_row0_col16\" class=\"data row0 col16\" >1499.178 ± 88.471</td>\n",
       "      <td id=\"T_310e8_row0_col17\" class=\"data row0 col17\" >1001.587 ± 25.784</td>\n",
       "      <td id=\"T_310e8_row0_col18\" class=\"data row0 col18\" >848.277 ± 23.508</td>\n",
       "      <td id=\"T_310e8_row0_col19\" class=\"data row0 col19\" >2353.697 ± 50.039</td>\n",
       "      <td id=\"T_310e8_row0_col20\" class=\"data row0 col20\" >1151.032 ± 44.183</td>\n",
       "    </tr>\n",
       "    <tr>\n",
       "      <td id=\"T_310e8_row1_col0\" class=\"data row1 col0\" >score_time</td>\n",
       "      <td id=\"T_310e8_row1_col1\" class=\"data row1 col1\" >8.264 ± 2.655</td>\n",
       "      <td id=\"T_310e8_row1_col2\" class=\"data row1 col2\" >2.124 ± 0.622</td>\n",
       "      <td id=\"T_310e8_row1_col3\" class=\"data row1 col3\" >1.962 ± 0.491</td>\n",
       "      <td id=\"T_310e8_row1_col4\" class=\"data row1 col4\" >4.331 ± 1.575</td>\n",
       "      <td id=\"T_310e8_row1_col5\" class=\"data row1 col5\" >8.346 ± 2.872</td>\n",
       "      <td id=\"T_310e8_row1_col6\" class=\"data row1 col6\" >1.359 ± 0.419</td>\n",
       "      <td id=\"T_310e8_row1_col7\" class=\"data row1 col7\" >1.658 ± 1.714</td>\n",
       "      <td id=\"T_310e8_row1_col8\" class=\"data row1 col8\" >6.677 ± 2.597</td>\n",
       "      <td id=\"T_310e8_row1_col9\" class=\"data row1 col9\" >7.333 ± 2.248</td>\n",
       "      <td id=\"T_310e8_row1_col10\" class=\"data row1 col10\" >2.034 ± 0.495</td>\n",
       "      <td id=\"T_310e8_row1_col11\" class=\"data row1 col11\" >1.820 ± 0.396</td>\n",
       "      <td id=\"T_310e8_row1_col12\" class=\"data row1 col12\" >3.679 ± 1.255</td>\n",
       "      <td id=\"T_310e8_row1_col13\" class=\"data row1 col13\" >7.528 ± 2.825</td>\n",
       "      <td id=\"T_310e8_row1_col14\" class=\"data row1 col14\" >1.379 ± 0.361</td>\n",
       "      <td id=\"T_310e8_row1_col15\" class=\"data row1 col15\" >1.423 ± 0.335</td>\n",
       "      <td id=\"T_310e8_row1_col16\" class=\"data row1 col16\" >7.179 ± 3.557</td>\n",
       "      <td id=\"T_310e8_row1_col17\" class=\"data row1 col17\" >7.771 ± 2.875</td>\n",
       "      <td id=\"T_310e8_row1_col18\" class=\"data row1 col18\" >1.903 ± 0.445</td>\n",
       "      <td id=\"T_310e8_row1_col19\" class=\"data row1 col19\" >2.118 ± 0.270</td>\n",
       "      <td id=\"T_310e8_row1_col20\" class=\"data row1 col20\" >3.721 ± 1.490</td>\n",
       "    </tr>\n",
       "    <tr>\n",
       "      <td id=\"T_310e8_row2_col0\" class=\"data row2 col0\" >test_accuracy</td>\n",
       "      <td id=\"T_310e8_row2_col1\" class=\"data row2 col1\" >0.565 ± 0.015</td>\n",
       "      <td id=\"T_310e8_row2_col2\" class=\"data row2 col2\" >0.947 ± 0.005</td>\n",
       "      <td id=\"T_310e8_row2_col3\" class=\"data row2 col3\" >0.917 ± 0.008</td>\n",
       "      <td id=\"T_310e8_row2_col4\" class=\"data row2 col4\" >0.950 ± 0.006</td>\n",
       "      <td id=\"T_310e8_row2_col5\" class=\"data row2 col5\" >0.845 ± 0.011</td>\n",
       "      <td id=\"T_310e8_row2_col6\" class=\"data row2 col6\" >0.947 ± 0.005</td>\n",
       "      <td id=\"T_310e8_row2_col7\" class=\"data row2 col7\" >0.921 ± 0.006</td>\n",
       "      <td id=\"T_310e8_row2_col8\" class=\"data row2 col8\" >0.957 ± 0.005</td>\n",
       "      <td id=\"T_310e8_row2_col9\" class=\"data row2 col9\" >0.616 ± 0.012</td>\n",
       "      <td id=\"T_310e8_row2_col10\" class=\"data row2 col10\" >0.946 ± 0.005</td>\n",
       "      <td id=\"T_310e8_row2_col11\" class=\"data row2 col11\" >0.913 ± 0.008</td>\n",
       "      <td id=\"T_310e8_row2_col12\" class=\"data row2 col12\" >0.951 ± 0.005</td>\n",
       "      <td id=\"T_310e8_row2_col13\" class=\"data row2 col13\" >0.837 ± 0.010</td>\n",
       "      <td id=\"T_310e8_row2_col14\" class=\"data row2 col14\" >0.947 ± 0.006</td>\n",
       "      <td id=\"T_310e8_row2_col15\" class=\"data row2 col15\" >0.919 ± 0.008</td>\n",
       "      <td id=\"T_310e8_row2_col16\" class=\"data row2 col16\" >0.953 ± 0.006</td>\n",
       "      <td id=\"T_310e8_row2_col17\" class=\"data row2 col17\" >0.618 ± 0.013</td>\n",
       "      <td id=\"T_310e8_row2_col18\" class=\"data row2 col18\" >0.951 ± 0.005</td>\n",
       "      <td id=\"T_310e8_row2_col19\" class=\"data row2 col19\" >0.918 ± 0.008</td>\n",
       "      <td id=\"T_310e8_row2_col20\" class=\"data row2 col20\" >0.956 ± 0.006</td>\n",
       "    </tr>\n",
       "    <tr>\n",
       "      <td id=\"T_310e8_row3_col0\" class=\"data row3 col0\" >test_precision</td>\n",
       "      <td id=\"T_310e8_row3_col1\" class=\"data row3 col1\" >0.536 ± 0.015</td>\n",
       "      <td id=\"T_310e8_row3_col2\" class=\"data row3 col2\" >0.943 ± 0.007</td>\n",
       "      <td id=\"T_310e8_row3_col3\" class=\"data row3 col3\" >0.924 ± 0.008</td>\n",
       "      <td id=\"T_310e8_row3_col4\" class=\"data row3 col4\" >0.946 ± 0.011</td>\n",
       "      <td id=\"T_310e8_row3_col5\" class=\"data row3 col5\" >0.829 ± 0.014</td>\n",
       "      <td id=\"T_310e8_row3_col6\" class=\"data row3 col6\" >0.949 ± 0.007</td>\n",
       "      <td id=\"T_310e8_row3_col7\" class=\"data row3 col7\" >0.943 ± 0.008</td>\n",
       "      <td id=\"T_310e8_row3_col8\" class=\"data row3 col8\" >0.955 ± 0.007</td>\n",
       "      <td id=\"T_310e8_row3_col9\" class=\"data row3 col9\" >0.565 ± 0.013</td>\n",
       "      <td id=\"T_310e8_row3_col10\" class=\"data row3 col10\" >0.946 ± 0.008</td>\n",
       "      <td id=\"T_310e8_row3_col11\" class=\"data row3 col11\" >0.927 ± 0.009</td>\n",
       "      <td id=\"T_310e8_row3_col12\" class=\"data row3 col12\" >0.942 ± 0.008</td>\n",
       "      <td id=\"T_310e8_row3_col13\" class=\"data row3 col13\" >0.826 ± 0.015</td>\n",
       "      <td id=\"T_310e8_row3_col14\" class=\"data row3 col14\" >0.951 ± 0.007</td>\n",
       "      <td id=\"T_310e8_row3_col15\" class=\"data row3 col15\" >0.936 ± 0.009</td>\n",
       "      <td id=\"T_310e8_row3_col16\" class=\"data row3 col16\" >0.947 ± 0.010</td>\n",
       "      <td id=\"T_310e8_row3_col17\" class=\"data row3 col17\" >0.567 ± 0.014</td>\n",
       "      <td id=\"T_310e8_row3_col18\" class=\"data row3 col18\" >0.947 ± 0.007</td>\n",
       "      <td id=\"T_310e8_row3_col19\" class=\"data row3 col19\" >0.930 ± 0.010</td>\n",
       "      <td id=\"T_310e8_row3_col20\" class=\"data row3 col20\" >0.953 ± 0.010</td>\n",
       "    </tr>\n",
       "    <tr>\n",
       "      <td id=\"T_310e8_row4_col0\" class=\"data row4 col0\" >test_recall</td>\n",
       "      <td id=\"T_310e8_row4_col1\" class=\"data row4 col1\" >0.993 ± 0.003</td>\n",
       "      <td id=\"T_310e8_row4_col2\" class=\"data row4 col2\" >0.952 ± 0.008</td>\n",
       "      <td id=\"T_310e8_row4_col3\" class=\"data row4 col3\" >0.908 ± 0.012</td>\n",
       "      <td id=\"T_310e8_row4_col4\" class=\"data row4 col4\" >0.955 ± 0.010</td>\n",
       "      <td id=\"T_310e8_row4_col5\" class=\"data row4 col5\" >0.870 ± 0.014</td>\n",
       "      <td id=\"T_310e8_row4_col6\" class=\"data row4 col6\" >0.944 ± 0.009</td>\n",
       "      <td id=\"T_310e8_row4_col7\" class=\"data row4 col7\" >0.897 ± 0.010</td>\n",
       "      <td id=\"T_310e8_row4_col8\" class=\"data row4 col8\" >0.959 ± 0.011</td>\n",
       "      <td id=\"T_310e8_row4_col9\" class=\"data row4 col9\" >0.983 ± 0.005</td>\n",
       "      <td id=\"T_310e8_row4_col10\" class=\"data row4 col10\" >0.947 ± 0.008</td>\n",
       "      <td id=\"T_310e8_row4_col11\" class=\"data row4 col11\" >0.896 ± 0.013</td>\n",
       "      <td id=\"T_310e8_row4_col12\" class=\"data row4 col12\" >0.961 ± 0.010</td>\n",
       "      <td id=\"T_310e8_row4_col13\" class=\"data row4 col13\" >0.852 ± 0.015</td>\n",
       "      <td id=\"T_310e8_row4_col14\" class=\"data row4 col14\" >0.944 ± 0.009</td>\n",
       "      <td id=\"T_310e8_row4_col15\" class=\"data row4 col15\" >0.900 ± 0.013</td>\n",
       "      <td id=\"T_310e8_row4_col16\" class=\"data row4 col16\" >0.959 ± 0.010</td>\n",
       "      <td id=\"T_310e8_row4_col17\" class=\"data row4 col17\" >0.986 ± 0.005</td>\n",
       "      <td id=\"T_310e8_row4_col18\" class=\"data row4 col18\" >0.955 ± 0.008</td>\n",
       "      <td id=\"T_310e8_row4_col19\" class=\"data row4 col19\" >0.902 ± 0.011</td>\n",
       "      <td id=\"T_310e8_row4_col20\" class=\"data row4 col20\" >0.958 ± 0.008</td>\n",
       "    </tr>\n",
       "    <tr>\n",
       "      <td id=\"T_310e8_row5_col0\" class=\"data row5 col0\" >test_f1</td>\n",
       "      <td id=\"T_310e8_row5_col1\" class=\"data row5 col1\" >0.696 ± 0.012</td>\n",
       "      <td id=\"T_310e8_row5_col2\" class=\"data row5 col2\" >0.947 ± 0.005</td>\n",
       "      <td id=\"T_310e8_row5_col3\" class=\"data row5 col3\" >0.916 ± 0.008</td>\n",
       "      <td id=\"T_310e8_row5_col4\" class=\"data row5 col4\" >0.950 ± 0.006</td>\n",
       "      <td id=\"T_310e8_row5_col5\" class=\"data row5 col5\" >0.849 ± 0.010</td>\n",
       "      <td id=\"T_310e8_row5_col6\" class=\"data row5 col6\" >0.947 ± 0.005</td>\n",
       "      <td id=\"T_310e8_row5_col7\" class=\"data row5 col7\" >0.919 ± 0.007</td>\n",
       "      <td id=\"T_310e8_row5_col8\" class=\"data row5 col8\" >0.957 ± 0.005</td>\n",
       "      <td id=\"T_310e8_row5_col9\" class=\"data row5 col9\" >0.718 ± 0.010</td>\n",
       "      <td id=\"T_310e8_row5_col10\" class=\"data row5 col10\" >0.947 ± 0.005</td>\n",
       "      <td id=\"T_310e8_row5_col11\" class=\"data row5 col11\" >0.911 ± 0.009</td>\n",
       "      <td id=\"T_310e8_row5_col12\" class=\"data row5 col12\" >0.951 ± 0.005</td>\n",
       "      <td id=\"T_310e8_row5_col13\" class=\"data row5 col13\" >0.839 ± 0.010</td>\n",
       "      <td id=\"T_310e8_row5_col14\" class=\"data row5 col14\" >0.948 ± 0.006</td>\n",
       "      <td id=\"T_310e8_row5_col15\" class=\"data row5 col15\" >0.918 ± 0.008</td>\n",
       "      <td id=\"T_310e8_row5_col16\" class=\"data row5 col16\" >0.953 ± 0.006</td>\n",
       "      <td id=\"T_310e8_row5_col17\" class=\"data row5 col17\" >0.720 ± 0.011</td>\n",
       "      <td id=\"T_310e8_row5_col18\" class=\"data row5 col18\" >0.951 ± 0.006</td>\n",
       "      <td id=\"T_310e8_row5_col19\" class=\"data row5 col19\" >0.916 ± 0.008</td>\n",
       "      <td id=\"T_310e8_row5_col20\" class=\"data row5 col20\" >0.956 ± 0.006</td>\n",
       "    </tr>\n",
       "    <tr>\n",
       "      <td id=\"T_310e8_row6_col0\" class=\"data row6 col0\" >test_roc_auc</td>\n",
       "      <td id=\"T_310e8_row6_col1\" class=\"data row6 col1\" >0.853 ± 0.009</td>\n",
       "      <td id=\"T_310e8_row6_col2\" class=\"data row6 col2\" >0.987 ± 0.003</td>\n",
       "      <td id=\"T_310e8_row6_col3\" class=\"data row6 col3\" >0.974 ± 0.003</td>\n",
       "      <td id=\"T_310e8_row6_col4\" class=\"data row6 col4\" >0.988 ± 0.002</td>\n",
       "      <td id=\"T_310e8_row6_col5\" class=\"data row6 col5\" >0.923 ± 0.007</td>\n",
       "      <td id=\"T_310e8_row6_col6\" class=\"data row6 col6\" >0.986 ± 0.003</td>\n",
       "      <td id=\"T_310e8_row6_col7\" class=\"data row6 col7\" >0.974 ± 0.004</td>\n",
       "      <td id=\"T_310e8_row6_col8\" class=\"data row6 col8\" >0.990 ± 0.002</td>\n",
       "      <td id=\"T_310e8_row6_col9\" class=\"data row6 col9\" >0.889 ± 0.009</td>\n",
       "      <td id=\"T_310e8_row6_col10\" class=\"data row6 col10\" >0.986 ± 0.002</td>\n",
       "      <td id=\"T_310e8_row6_col11\" class=\"data row6 col11\" >0.974 ± 0.004</td>\n",
       "      <td id=\"T_310e8_row6_col12\" class=\"data row6 col12\" >0.989 ± 0.003</td>\n",
       "      <td id=\"T_310e8_row6_col13\" class=\"data row6 col13\" >0.914 ± 0.008</td>\n",
       "      <td id=\"T_310e8_row6_col14\" class=\"data row6 col14\" >0.987 ± 0.003</td>\n",
       "      <td id=\"T_310e8_row6_col15\" class=\"data row6 col15\" >0.972 ± 0.004</td>\n",
       "      <td id=\"T_310e8_row6_col16\" class=\"data row6 col16\" >0.990 ± 0.002</td>\n",
       "      <td id=\"T_310e8_row6_col17\" class=\"data row6 col17\" >0.895 ± 0.008</td>\n",
       "      <td id=\"T_310e8_row6_col18\" class=\"data row6 col18\" >0.989 ± 0.002</td>\n",
       "      <td id=\"T_310e8_row6_col19\" class=\"data row6 col19\" >0.977 ± 0.004</td>\n",
       "      <td id=\"T_310e8_row6_col20\" class=\"data row6 col20\" >0.990 ± 0.002</td>\n",
       "    </tr>\n",
       "  </tbody>\n",
       "</table>\n"
      ],
      "text/plain": [
       "<pandas.io.formats.style.Styler at 0x7fbeb81c6cd0>"
      ]
     },
     "metadata": {},
     "output_type": "display_data"
    },
    {
     "name": "stdout",
     "output_type": "stream",
     "text": [
      "O melhor modelo é o lemmatization_wo_stopwords-SVC\n"
     ]
    }
   ],
   "source": [
    "time_scores = ['fit_time', 'score_time']\n",
    "get_winner = partial(organize.get_winner, models=results.columns[1:])\n",
    "winner = (\n",
    "    results\n",
    "    .query('score not in @time_scores')\n",
    "    .apply(get_winner, axis=1)\n",
    "    .value_counts()\n",
    "    .index[0]\n",
    ")\n",
    "results.columns.name = ''\n",
    "results = (\n",
    "    results\n",
    "    .style\n",
    "    .hide(axis='index')\n",
    "    .apply(organize.highlight_max, props='color:white;background-color:blue', axis=1)\n",
    ")\n",
    "display(results)\n",
    "print(f'O melhor modelo é o {winner}')"
   ]
  },
  {
   "cell_type": "markdown",
   "id": "a2249f35-68db-47ab-80be-da2aeef0b75f",
   "metadata": {
    "papermill": {
     "duration": 0.017428,
     "end_time": "2022-07-15T10:48:17.099155",
     "exception": false,
     "start_time": "2022-07-15T10:48:17.081727",
     "status": "completed"
    },
    "tags": []
   },
   "source": [
    "### Melhor hiperparâmetro para tal combinação"
   ]
  },
  {
   "cell_type": "code",
   "execution_count": 14,
   "id": "bb57d5d9-0256-4cfd-974f-3b3cee59abde",
   "metadata": {
    "execution": {
     "iopub.execute_input": "2022-07-15T10:48:17.143568Z",
     "iopub.status.busy": "2022-07-15T10:48:17.143366Z",
     "iopub.status.idle": "2022-07-15T10:59:12.198313Z",
     "shell.execute_reply": "2022-07-15T10:59:12.196822Z"
    },
    "papermill": {
     "duration": 655.110127,
     "end_time": "2022-07-15T10:59:12.227953",
     "exception": false,
     "start_time": "2022-07-15T10:48:17.117826",
     "status": "completed"
    },
    "tags": []
   },
   "outputs": [
    {
     "name": "stderr",
     "output_type": "stream",
     "text": [
      "/storages/caico/home/taynafiuza/.cache/pypoetry/virtualenvs/src-ahMoboP9-py3.8/lib/python3.8/site-packages/sklearn/svm/_base.py:1206: ConvergenceWarning: Liblinear failed to converge, increase the number of iterations.\n",
      "  warnings.warn(\n",
      "/storages/caico/home/taynafiuza/.cache/pypoetry/virtualenvs/src-ahMoboP9-py3.8/lib/python3.8/site-packages/sklearn/svm/_base.py:1206: ConvergenceWarning: Liblinear failed to converge, increase the number of iterations.\n",
      "  warnings.warn(\n"
     ]
    },
    {
     "data": {
      "text/plain": [
       "['../models/best_label_encoder.joblib']"
      ]
     },
     "execution_count": 14,
     "metadata": {},
     "output_type": "execute_result"
    }
   ],
   "source": [
    "best_model = [item for item in models if item[\"name\"] == winner.split(\"-\")[-1]][0]\n",
    "best_dataset_name = winner.split(\"-\")[0]\n",
    "\n",
    "corpus = df[best_dataset_name].to_list()\n",
    "#label_encoder = LabelEncoder()\n",
    "#labels = label_encoder.fit_transform(df.label)\n",
    "labels = df.label.replace({\"true\": 1, \"fake\": 0})\n",
    "\n",
    "param_grid = {\n",
    "            'vectorizer__tfidf__use_idf': [False, True],\n",
    "            'vectorizer__count__max_features': [1000, 2000],\n",
    "            'pca__n_components': [100, 200, 500],\n",
    "            **{f\"model__{key}\": value for key, value in best_model['parameters'].items()}\n",
    "        }\n",
    "\n",
    "approach = Pipeline([\n",
    "    (\"vectorizer\", vectorizer),\n",
    "    (\"pca\", pca),\n",
    "    (\"normalize\", scaler),\n",
    "    ('model', best_model['model'])\n",
    "])\n",
    "\n",
    "gs = RandomizedSearchCV(\n",
    "    estimator=approach,\n",
    "    param_distributions=param_grid,\n",
    "    scoring='f1',\n",
    "    cv=n_splits_cv_grid_search,\n",
    "    random_state=24\n",
    ")\n",
    "\n",
    "gs.fit(corpus, labels)\n",
    "\n",
    "best_estimator = gs.best_estimator_\n",
    "best_estimator.fit(corpus, labels)\n",
    "\n",
    "model_path = \"../models/best_model.joblib\"\n",
    "joblib.dump(best_estimator, model_path)"
   ]
  }
 ],
 "metadata": {
  "kernelspec": {
   "display_name": "Python 3 (ipykernel)",
   "language": "python",
   "name": "python3"
  },
  "language_info": {
   "codemirror_mode": {
    "name": "ipython",
    "version": 3
   },
   "file_extension": ".py",
   "mimetype": "text/x-python",
   "name": "python",
   "nbconvert_exporter": "python",
   "pygments_lexer": "ipython3",
   "version": "3.8.10"
  },
  "papermill": {
   "default_parameters": {},
   "duration": 30059.035301,
   "end_time": "2022-07-15T10:59:15.216811",
   "environment_variables": {},
   "exception": null,
   "input_path": "03e - Comparative Analysis.ipynb",
   "output_path": "output_test8.ipynb",
   "parameters": {},
   "start_time": "2022-07-15T02:38:16.181510",
   "version": "2.3.4"
  }
 },
 "nbformat": 4,
 "nbformat_minor": 5
}
