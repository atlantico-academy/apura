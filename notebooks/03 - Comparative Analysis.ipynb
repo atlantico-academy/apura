{
 "cells": [
  {
   "cell_type": "markdown",
   "id": "23b6be34-b529-45b5-a0f9-f56ff8911bd9",
   "metadata": {},
   "source": [
    "# Análise Comparativa de Modelos\n",
    "\n",
    "Nesse notebook iremos olhar para os textos obtidos na primeira unidade para construir modelos de aprendizado de máquina. Para isso, precisaremos de algumas bibliotecas já conhecidas (*pandas, nltk, numpy*) e de outras novas, relacionadas à:\n",
    "- preparação dos dados: \n",
    "    - *CountVectorizer*, \n",
    "    - *TfidfVectorizer*,\n",
    "    - *TruncatedSVD*\n",
    "    - *StandardScaler*\n",
    "- aprendizagem em si: \n",
    "    - *LogisticRegression*, \n",
    "    - *KNeighborsClassifier*, \n",
    "    - *SVC*, \n",
    "    - *RandomForestClassifier*\n",
    "- construção da sequência de passos a realizar:\n",
    "    - *Pipeline*\n",
    "- avaliação e seleção dos modelos obtidos:\n",
    "    - *ShuffleSplit*,\n",
    "    - *cross_validate*\n",
    "    \n",
    "Algumas dessas funções serão explicadas adiante. Sigamos.\n",
    "\n",
    "## Importando bibliotecas"
   ]
  },
  {
   "cell_type": "code",
   "execution_count": 20,
   "id": "542b5384-0a7a-4009-bd2d-bf6c6c8656d3",
   "metadata": {},
   "outputs": [
    {
     "name": "stderr",
     "output_type": "stream",
     "text": [
      "[nltk_data] Downloading package stopwords to /home/tayna/nltk_data...\n",
      "[nltk_data]   Package stopwords is already up-to-date!\n"
     ]
    },
    {
     "data": {
      "text/plain": [
       "True"
      ]
     },
     "execution_count": 20,
     "metadata": {},
     "output_type": "execute_result"
    }
   ],
   "source": [
    "from itertools import product # produto cartesiano de duas listas sem precisar de for aninhados\n",
    "import pandas as pd # manipulação de dataframes\n",
    "import nltk # ferramentas p/ processamento de linguagem natural\n",
    "import numpy as np # manipulação de matrizes, funções matemáticas\n",
    "from matplotlib import pyplot as plt\n",
    "import seaborn as sns\n",
    "from sklearn.feature_extraction.text import CountVectorizer, TfidfVectorizer\n",
    "from sklearn.decomposition import TruncatedSVD\n",
    "from sklearn.preprocessing import StandardScaler\n",
    "from sklearn.pipeline import Pipeline\n",
    "from sklearn.linear_model import LogisticRegression\n",
    "from sklearn.neighbors import KNeighborsClassifier\n",
    "from sklearn.svm import SVC\n",
    "from sklearn.ensemble import RandomForestClassifier\n",
    "from sklearn.model_selection import ShuffleSplit, cross_validate\n",
    "\n",
    "nltk.download(\"stopwords\")"
   ]
  },
  {
   "cell_type": "markdown",
   "id": "6914b1ad-d16a-4753-9e1b-c2a8a98e74e3",
   "metadata": {},
   "source": [
    "## Carregando Dados"
   ]
  },
  {
   "cell_type": "code",
   "execution_count": 21,
   "id": "cf70b45f-1075-4258-956f-d9e9b450a7d1",
   "metadata": {},
   "outputs": [],
   "source": [
    "# Adquire dados do arquivo produzido na etapa anterior\n",
    "input_path = \"../data/interim/news.csv\"\n",
    "df = pd.read_csv(input_path)\n",
    "\n",
    "# Converte as colunas com texto em uma lista\n",
    "corpus = df.text.to_list()\n",
    "\n",
    "# Atribui os valores 1 para notícias verdadeiras e 0 para notícias falsas\n",
    "labels = df.label.replace({\"true\": 1, \"fake\": 0})"
   ]
  },
  {
   "cell_type": "markdown",
   "id": "a809f859-8c48-4ee0-a9f5-2665b03be073",
   "metadata": {},
   "source": [
    "## Conversão dos textos (Vetorizadores)\n",
    "\n",
    "### CountVectorizer\n",
    "\n",
    "Esse método de conversão cria uma matriz com a contagem de todas as palavras presentes em todos os textos considerados. Esse método também é chamado de Bag of Words, ou Saco de Palavras.\n",
    "\n",
    "![CountVectorizer](images/count-vectorizer.png)\n",
    "\n",
    "### TfidfVectorizer\n",
    "\n",
    "Esse método de conversão cria uma matriz que considera dois valores: TF e DF. TF ($tf_{i,j}$) é a contagem de uma palavra ($i$) no texto ($j$), tal como é calculada pelo CountVectorizer. Já DF ($df_{i}$) diz respeito à quantidade de textos em que aquela palavra aparece. No cálculo, o valor para uma dada palavra ($w_{i,j}$) é dado por:\n",
    "\n",
    "$ w_{i,j} = tf_{i,j} \\times log(\\frac{N}{df_{i}}) $\n",
    "\n",
    "Em que $N$ é o número total de documentos. Como $df_{i}$ está no denominador do logarítmo, trata-se de uma conversão que considera TF e o inverso de DF, iDF.\n",
    "\n",
    "![CountVectorizer](images/tfidf-vectorizer.png)\n",
    "\n",
    "Em ambos os casos, palavras comuns e sem importância semântica no idioma trabalhado devem ser removidas. Afinal, caso fossem consideradas na conversão TFiDF, as palavras \"de\" e \"desse\" no primeiro texto teriam o mesmo peso da palavra \"corrupção\" e \"suspeito\", com importância semântica superior.\n",
    "\n",
    "Aqui, optamos também por utilizar apenas as 1000 palavras mais frequentes em ambas as conversões, de modo a limitar o número de características para o treinamento."
   ]
  },
  {
   "cell_type": "code",
   "execution_count": 22,
   "id": "bf09e2bd-e35e-4cef-8849-85397fb0d4a0",
   "metadata": {},
   "outputs": [],
   "source": [
    "vectorizers = {\n",
    "    'bow': CountVectorizer(\n",
    "        stop_words = nltk.corpus.stopwords.words('portuguese'),\n",
    "        max_features = 1000\n",
    "    ),\n",
    "    'tfidf': TfidfVectorizer(\n",
    "        stop_words = nltk.corpus.stopwords.words('portuguese'),\n",
    "        max_features = 1000\n",
    "    )\n",
    "}"
   ]
  },
  {
   "cell_type": "markdown",
   "id": "5ed0a6d1-c85c-4e5a-952a-8ebd72a042dd",
   "metadata": {},
   "source": [
    "## Modelos de Aprendizagem de Máquina\n",
    "\n",
    "### Regressão Logística\n",
    "\n",
    "A regressão logística, que é um modelo classificador, utiliza uma função logística para calcular as probabilidades de uma notícia ser falsa ou verdadeira. A função logística por trás deste modelo é uma curva sigmoide contendo as probabilidades de classificação em uma determinada categoria (notícia falsa ou verdadeira). A partir disso se encontra um valor limite dentro da curva para que então se obtenham as predições.\n",
    "\n",
    "### KNN\n",
    "\n",
    "Aqui a classificação das notícias em falsas ou verdadeira é feita com base nos K-vizinhos mais próximos (*K-Nearest Neighbors*) a ela. Se utilizamos $K = 10$ e dentre as 10 notícias mais próximas de uma notícia $i$ no nosso espaço dimensional, 6 são falsas e 4 são verdadeiras, esta notícia $i$ será classificada como falsa. No nosso caso utilizamos $K = 21$.\n",
    "\n",
    "### SVC\n",
    "\n",
    "O SVC é um *Support Vector Classifier*, isso é, um algoritmo de classificação que utiliza vetores (dados) como suporte para definir um hiperplano que separe dados de um grupo dos dados de outro grupo. No nosso caso, o SVC busca um hiperplano que separe as matrizes produzidas a partir de notícias falsas daquelas de notícias verdadeiras.\n",
    "\n",
    "O hiperplano pode ser obtido após uma transformação dos dados, na qual eles saem de seu espaço dimensional original, intrínseco, e são levados a um espaço dimensional superior. Essa transformação é feita através através de diversas fórmulas matemáticas para que então o hiperplano ideal - aquele que separa os dados com melhor margem - seja identificado; este é o chamado *kernel trick*.\n",
    "\n",
    "### Random Forest\n",
    "\n",
    "A *Random Forest*, uma floresta aleatória, é um método que faz uso de diversas Árvores de Decisão, *Decision Trees*. As árvores de decisão são aquelas que fazem sucessivas divisões nos dados utilizando as características disponíveis de modo a obter grupos que sejam o mais diferentes entre si e o mais coesos internamente. Exemplo de divisão para separação de grupos: textos que têm a palavra ministro e textos que não têm, textos contendo a palavra corrupção e textos que não tem.\n",
    "\n",
    "Contando então com várias árvores de decisão, a *Floresta*, é um classificador do tipo *ensemble*, pois considera diferentes predições finais para cada texto pelas diferentes árvores. A predição prevalente para um dado texto é então incorporada à saída da *Random Forest*. Como as árvores de decisão não são dependentes entre si, possuindo critérios próprios e não relacionados, a Random Forest minimiza o viés que viria do uso de uma única árvore, se tornando um modelo poderoso.\n"
   ]
  },
  {
   "cell_type": "code",
   "execution_count": 23,
   "id": "5251981e-4d02-4213-85ed-95af456e4894",
   "metadata": {},
   "outputs": [],
   "source": [
    "models = {\n",
    "    'logistic regression': LogisticRegression(),\n",
    "    'KNN': KNeighborsClassifier(n_neighbors=21),\n",
    "    'SVC': SVC(),\n",
    "    'random forest': RandomForestClassifier()\n",
    "}"
   ]
  },
  {
   "cell_type": "code",
   "execution_count": null,
   "id": "2e641492-a30c-45a8-90a8-cab38ce5fa64",
   "metadata": {},
   "outputs": [],
   "source": []
  },
  {
   "cell_type": "markdown",
   "id": "69c5795a-3cb4-4c7a-9be1-aba481d31f3a",
   "metadata": {},
   "source": [
    "## Redução de Dimensionalidade\n",
    "\n",
    "Quando trabalhamos com texto é natural que o resultado das transformações dos textos em vetores (CountVectorizer, TFiDFVectorizer, etc) seja uma matriz esparsa, pois grande parte das palavras NÃO estará presente em diversos textos. Desse modo, pode ser vantajoso aplicar uma redução de dimensionalidade. Na etapa de transformação, ficamos com mil *features*, referentes às ocorrências das palavras mais frequentes. \n",
    "\n",
    "Agora, usaremos a função TruncatedSVD para reduzir nossa matriz esparsa pela metade, ficando apenas com as ocorrências das 500 palavras menos esparsas dentre as 1000 mais frequentes. A decomposição em valores singulares (*singular value decomposition*, SVD) transforma a matriz recebida e a leva para um espaço dimensional menor, reduzindo o efeito de sinônimos e palavras similares, as quais são usadas de maneira alternada pelos textos.\n",
    "\n",
    "## Normalização\n",
    "\n",
    "Na normalização os valores são transformados de forma a escala das diferentes características, isso reduz as chances de superestimação ou subestimação de determinadas *features* em função de seus valores padrão. Aqui, foi empregada uma normalização do tipo Z ou padronização, que subtrai a média da distribuição do para cada valor e divide o resultado pelo desvio padrão para aquela característica. Essa é uma maneira de normalizar sem alterar a distribuição das features, seja qual for."
   ]
  },
  {
   "cell_type": "code",
   "execution_count": 24,
   "id": "a20a6091-4dd7-4c95-b821-41008bdd7122",
   "metadata": {},
   "outputs": [],
   "source": [
    "pca = TruncatedSVD(500)\n",
    "scaler = StandardScaler()"
   ]
  },
  {
   "cell_type": "markdown",
   "id": "7b937107-ad12-44a3-b398-b1a100ef2fa1",
   "metadata": {},
   "source": [
    "## Pipeline\n",
    "\n",
    "Para facilitar a comparação entre os modelos utilizamos a função *Pipeline*. O protocolo envolve produzir predições com todas as combinações de transformadores e todos os modelos de aprendizagem de máquina produzidos com os mesmos métodos de redução de dimensionalidade e normalização.\n",
    "\n",
    "## Validação Cruzada\n",
    "\n",
    "Para testar a robustez dos modelos, a validação cruzada foi feita sobre 10 divisões aleatórias dos dados, conservando 80% deles para o conjunto de treinamento e 20% para teste. Ao final, os escores de avaliação (acurácia, F1-score, **baba** e **bebe**) obtidos foram armazenados em uma variável *results* para posterior análise.\n",
    "\n",
    "### Acurácia\n",
    "\n",
    "Esta medida de avaliação considera os acertos que o modelo realizou, sejam eles ao classificar notícias falsas como falsas ou notícias verdadeiras como verdadeiras. Todos os acertos são computados e calculados em forma de porcentagem em relação ao número total de dados. Esta é uma métrica interessante quando ambas as categorias são igualmente importantes.\n",
    "\n",
    "### F1\n",
    "\n",
    "No nosso caso, como detector de notícias falsas, pode ser mais interessante, caso seja necessário, priorizar modelos que tenham melhor desempenho em corretamente rotular notícias falsas. Nesse caso, o *F1-score* é uma boa medida para a avaliação dos erros (falsos positivos e falsos negativos) e será dado pela média harmônica entre precisão e sensibilidade. No nosso caso:\n",
    "\n",
    "- Precisão\n",
    "> Proporção dada pelo # de notícias falsas corretamente classificadas como falsas e o # total de notícias classificadas como falsas.\n",
    "- Sensibilidade\n",
    "> Proporção dada pelo # de notícias corretamente classificadas como falsas dividido pelo # notícias realmente falsas. "
   ]
  },
  {
   "cell_type": "code",
   "execution_count": 25,
   "id": "2d7e46c1-96a2-4dfc-a337-1782d58a6439",
   "metadata": {},
   "outputs": [],
   "source": [
    "results = {}\n",
    "n_splits = 10\n",
    "split = ShuffleSplit(n_splits=n_splits, test_size=.2)\n",
    "for vectorizer, model in product(vectorizers.items(), models.items()):\n",
    "    vectorizer_name, vectorizer_ = vectorizer\n",
    "    model_name, model_ = model\n",
    "    pipeline = Pipeline(steps=[\n",
    "        (\"vectorizer\", vectorizer_),\n",
    "        (\"pca\", pca),\n",
    "        (\"normalize\", scaler),\n",
    "        (\"model\", model_)\n",
    "    ])    \n",
    "    scores = cross_validate(pipeline, corpus, labels, cv=split, scoring=['accuracy', 'f1'])\n",
    "    scores['model'] = [f\"{vectorizer_name}-{model_name}\"] * n_splits\n",
    "    if not(results):\n",
    "        results = {key: [] for key in scores}\n",
    "    for key in scores:\n",
    "        results[key].extend(scores[key])"
   ]
  },
  {
   "cell_type": "markdown",
   "id": "ee935b49-a6f9-49fc-a3cb-edc97c5dc6d1",
   "metadata": {},
   "source": [
    "## Comparação dos modelos\n",
    "### Tabela\n",
    "\n",
    "Em que os resultados são agrupados de acordo com os modelos e são calculadas média e desvio padrão dos dez modelos gerados para cada combinação vetorizador-método de aprendizagem de máquina."
   ]
  },
  {
   "cell_type": "code",
   "execution_count": 32,
   "id": "bececb25-cd41-4bb0-bd7c-01b2d40ff34c",
   "metadata": {},
   "outputs": [],
   "source": [
    "df_results = (\n",
    "    pd\n",
    "    .DataFrame(results)\n",
    "    .groupby(\"model\")\n",
    "    .agg([np.mean, np.std])\n",
    "    .transpose()\n",
    ")"
   ]
  },
  {
   "cell_type": "markdown",
   "id": "7c2641f9-d991-4f60-9089-121b010c0b2e",
   "metadata": {},
   "source": [
    "Nesta tabela temos informações relacionadas a:\n",
    "- **Fit Time**: Tempo gasto na adequação do modelo ao conjunto de treino.\n",
    "- **Score Time**: Tempo gasto para avaliação do modelo com o conjunto teste.\n",
    "- **Test Accuracy**: Acurácia do modelo frente ao conjunto teste.\n",
    "- **Test F1**: F1 score do modelo frente ao conjunto teste.\n",
    "\n",
    "As linhas que computam a média dessas métricas estão coloridas de acordo com os valores, quão maiores, mais escuro o fundo da célula na tabela. "
   ]
  },
  {
   "cell_type": "code",
   "execution_count": 125,
   "id": "56f949d9-2d5e-49af-85a8-0b0e2cad63bf",
   "metadata": {},
   "outputs": [
    {
     "data": {
      "text/html": [
       "<style type=\"text/css\">\n",
       "#T_6d195_row0_col0, #T_6d195_row2_col2, #T_6d195_row2_col7, #T_6d195_row4_col0, #T_6d195_row6_col0 {\n",
       "  background-color: #fff7fb;\n",
       "  color: #000000;\n",
       "}\n",
       "#T_6d195_row0_col1 {\n",
       "  background-color: #d8d7e9;\n",
       "  color: #000000;\n",
       "}\n",
       "#T_6d195_row0_col2 {\n",
       "  background-color: #f8f1f8;\n",
       "  color: #000000;\n",
       "}\n",
       "#T_6d195_row0_col3, #T_6d195_row2_col5, #T_6d195_row4_col1, #T_6d195_row4_col2, #T_6d195_row6_col1, #T_6d195_row6_col2 {\n",
       "  background-color: #023858;\n",
       "  color: #f1f1f1;\n",
       "}\n",
       "#T_6d195_row0_col4 {\n",
       "  background-color: #fcf4fa;\n",
       "  color: #000000;\n",
       "}\n",
       "#T_6d195_row0_col5 {\n",
       "  background-color: #78abd0;\n",
       "  color: #f1f1f1;\n",
       "}\n",
       "#T_6d195_row0_col6 {\n",
       "  background-color: #f9f2f8;\n",
       "  color: #000000;\n",
       "}\n",
       "#T_6d195_row0_col7 {\n",
       "  background-color: #1e80b8;\n",
       "  color: #f1f1f1;\n",
       "}\n",
       "#T_6d195_row2_col0 {\n",
       "  background-color: #dedcec;\n",
       "  color: #000000;\n",
       "}\n",
       "#T_6d195_row2_col1 {\n",
       "  background-color: #b1c2de;\n",
       "  color: #000000;\n",
       "}\n",
       "#T_6d195_row2_col3 {\n",
       "  background-color: #fef6fb;\n",
       "  color: #000000;\n",
       "}\n",
       "#T_6d195_row2_col4 {\n",
       "  background-color: #e0deed;\n",
       "  color: #000000;\n",
       "}\n",
       "#T_6d195_row2_col6 {\n",
       "  background-color: #fef6fa;\n",
       "  color: #000000;\n",
       "}\n",
       "#T_6d195_row4_col3 {\n",
       "  background-color: #023d60;\n",
       "  color: #f1f1f1;\n",
       "}\n",
       "#T_6d195_row4_col4 {\n",
       "  background-color: #fdf5fa;\n",
       "  color: #000000;\n",
       "}\n",
       "#T_6d195_row4_col5, #T_6d195_row6_col6 {\n",
       "  background-color: #023b5d;\n",
       "  color: #f1f1f1;\n",
       "}\n",
       "#T_6d195_row4_col6 {\n",
       "  background-color: #023e62;\n",
       "  color: #f1f1f1;\n",
       "}\n",
       "#T_6d195_row4_col7 {\n",
       "  background-color: #034f7d;\n",
       "  color: #f1f1f1;\n",
       "}\n",
       "#T_6d195_row6_col3 {\n",
       "  background-color: #023a5b;\n",
       "  color: #f1f1f1;\n",
       "}\n",
       "#T_6d195_row6_col4 {\n",
       "  background-color: #197db7;\n",
       "  color: #f1f1f1;\n",
       "}\n",
       "#T_6d195_row6_col5 {\n",
       "  background-color: #02395a;\n",
       "  color: #f1f1f1;\n",
       "}\n",
       "#T_6d195_row6_col7 {\n",
       "  background-color: #034369;\n",
       "  color: #f1f1f1;\n",
       "}\n",
       "</style>\n",
       "<table id=\"T_6d195\">\n",
       "  <thead>\n",
       "    <tr>\n",
       "      <th class=\"blank\" >&nbsp;</th>\n",
       "      <th class=\"index_name level0\" >model</th>\n",
       "      <th id=\"T_6d195_level0_col0\" class=\"col_heading level0 col0\" >bow-KNN</th>\n",
       "      <th id=\"T_6d195_level0_col1\" class=\"col_heading level0 col1\" >bow-SVC</th>\n",
       "      <th id=\"T_6d195_level0_col2\" class=\"col_heading level0 col2\" >bow-logistic regression</th>\n",
       "      <th id=\"T_6d195_level0_col3\" class=\"col_heading level0 col3\" >bow-random forest</th>\n",
       "      <th id=\"T_6d195_level0_col4\" class=\"col_heading level0 col4\" >tfidf-KNN</th>\n",
       "      <th id=\"T_6d195_level0_col5\" class=\"col_heading level0 col5\" >tfidf-SVC</th>\n",
       "      <th id=\"T_6d195_level0_col6\" class=\"col_heading level0 col6\" >tfidf-logistic regression</th>\n",
       "      <th id=\"T_6d195_level0_col7\" class=\"col_heading level0 col7\" >tfidf-random forest</th>\n",
       "    </tr>\n",
       "  </thead>\n",
       "  <tbody>\n",
       "    <tr>\n",
       "      <th id=\"T_6d195_level0_row0\" class=\"row_heading level0 row0\" rowspan=\"2\">fit_time</th>\n",
       "      <th id=\"T_6d195_level1_row0\" class=\"row_heading level1 row0\" >mean</th>\n",
       "      <td id=\"T_6d195_row0_col0\" class=\"data row0 col0\" >8.472345</td>\n",
       "      <td id=\"T_6d195_row0_col1\" class=\"data row0 col1\" >12.659568</td>\n",
       "      <td id=\"T_6d195_row0_col2\" class=\"data row0 col2\" >9.448021</td>\n",
       "      <td id=\"T_6d195_row0_col3\" class=\"data row0 col3\" >27.877733</td>\n",
       "      <td id=\"T_6d195_row0_col4\" class=\"data row0 col4\" >8.912107</td>\n",
       "      <td id=\"T_6d195_row0_col5\" class=\"data row0 col5\" >18.022395</td>\n",
       "      <td id=\"T_6d195_row0_col6\" class=\"data row0 col6\" >9.273907</td>\n",
       "      <td id=\"T_6d195_row0_col7\" class=\"data row0 col7\" >21.774873</td>\n",
       "    </tr>\n",
       "    <tr>\n",
       "      <th id=\"T_6d195_level1_row1\" class=\"row_heading level1 row1\" >std</th>\n",
       "      <td id=\"T_6d195_row1_col0\" class=\"data row1 col0\" >0.913961</td>\n",
       "      <td id=\"T_6d195_row1_col1\" class=\"data row1 col1\" >1.424821</td>\n",
       "      <td id=\"T_6d195_row1_col2\" class=\"data row1 col2\" >1.093262</td>\n",
       "      <td id=\"T_6d195_row1_col3\" class=\"data row1 col3\" >0.587431</td>\n",
       "      <td id=\"T_6d195_row1_col4\" class=\"data row1 col4\" >0.141403</td>\n",
       "      <td id=\"T_6d195_row1_col5\" class=\"data row1 col5\" >0.477691</td>\n",
       "      <td id=\"T_6d195_row1_col6\" class=\"data row1 col6\" >0.321777</td>\n",
       "      <td id=\"T_6d195_row1_col7\" class=\"data row1 col7\" >0.278608</td>\n",
       "    </tr>\n",
       "    <tr>\n",
       "      <th id=\"T_6d195_level0_row2\" class=\"row_heading level0 row2\" rowspan=\"2\">score_time</th>\n",
       "      <th id=\"T_6d195_level1_row2\" class=\"row_heading level1 row2\" >mean</th>\n",
       "      <td id=\"T_6d195_row2_col0\" class=\"data row2 col0\" >1.351420</td>\n",
       "      <td id=\"T_6d195_row2_col1\" class=\"data row2 col1\" >1.784360</td>\n",
       "      <td id=\"T_6d195_row2_col2\" class=\"data row2 col2\" >0.822915</td>\n",
       "      <td id=\"T_6d195_row2_col3\" class=\"data row2 col3\" >0.842256</td>\n",
       "      <td id=\"T_6d195_row2_col4\" class=\"data row2 col4\" >1.325145</td>\n",
       "      <td id=\"T_6d195_row2_col5\" class=\"data row2 col5\" >3.635016</td>\n",
       "      <td id=\"T_6d195_row2_col6\" class=\"data row2 col6\" >0.846400</td>\n",
       "      <td id=\"T_6d195_row2_col7\" class=\"data row2 col7\" >0.830003</td>\n",
       "    </tr>\n",
       "    <tr>\n",
       "      <th id=\"T_6d195_level1_row3\" class=\"row_heading level1 row3\" >std</th>\n",
       "      <td id=\"T_6d195_row3_col0\" class=\"data row3 col0\" >0.259915</td>\n",
       "      <td id=\"T_6d195_row3_col1\" class=\"data row3 col1\" >0.150768</td>\n",
       "      <td id=\"T_6d195_row3_col2\" class=\"data row3 col2\" >0.102777</td>\n",
       "      <td id=\"T_6d195_row3_col3\" class=\"data row3 col3\" >0.063913</td>\n",
       "      <td id=\"T_6d195_row3_col4\" class=\"data row3 col4\" >0.065636</td>\n",
       "      <td id=\"T_6d195_row3_col5\" class=\"data row3 col5\" >0.086451</td>\n",
       "      <td id=\"T_6d195_row3_col6\" class=\"data row3 col6\" >0.049973</td>\n",
       "      <td id=\"T_6d195_row3_col7\" class=\"data row3 col7\" >0.046335</td>\n",
       "    </tr>\n",
       "    <tr>\n",
       "      <th id=\"T_6d195_level0_row4\" class=\"row_heading level0 row4\" rowspan=\"2\">test_accuracy</th>\n",
       "      <th id=\"T_6d195_level1_row4\" class=\"row_heading level1 row4\" >mean</th>\n",
       "      <td id=\"T_6d195_row4_col0\" class=\"data row4 col0\" >0.502361</td>\n",
       "      <td id=\"T_6d195_row4_col1\" class=\"data row4 col1\" >0.955278</td>\n",
       "      <td id=\"T_6d195_row4_col2\" class=\"data row4 col2\" >0.954861</td>\n",
       "      <td id=\"T_6d195_row4_col3\" class=\"data row4 col3\" >0.946319</td>\n",
       "      <td id=\"T_6d195_row4_col4\" class=\"data row4 col4\" >0.509583</td>\n",
       "      <td id=\"T_6d195_row4_col5\" class=\"data row4 col5\" >0.949653</td>\n",
       "      <td id=\"T_6d195_row4_col6\" class=\"data row4 col6\" >0.942917</td>\n",
       "      <td id=\"T_6d195_row4_col7\" class=\"data row4 col7\" >0.916181</td>\n",
       "    </tr>\n",
       "    <tr>\n",
       "      <th id=\"T_6d195_level1_row5\" class=\"row_heading level1 row5\" >std</th>\n",
       "      <td id=\"T_6d195_row5_col0\" class=\"data row5 col0\" >0.011840</td>\n",
       "      <td id=\"T_6d195_row5_col1\" class=\"data row5 col1\" >0.003143</td>\n",
       "      <td id=\"T_6d195_row5_col2\" class=\"data row5 col2\" >0.005488</td>\n",
       "      <td id=\"T_6d195_row5_col3\" class=\"data row5 col3\" >0.003323</td>\n",
       "      <td id=\"T_6d195_row5_col4\" class=\"data row5 col4\" >0.010871</td>\n",
       "      <td id=\"T_6d195_row5_col5\" class=\"data row5 col5\" >0.005775</td>\n",
       "      <td id=\"T_6d195_row5_col6\" class=\"data row5 col6\" >0.004886</td>\n",
       "      <td id=\"T_6d195_row5_col7\" class=\"data row5 col7\" >0.007180</td>\n",
       "    </tr>\n",
       "    <tr>\n",
       "      <th id=\"T_6d195_level0_row6\" class=\"row_heading level0 row6\" rowspan=\"2\">test_f1</th>\n",
       "      <th id=\"T_6d195_level1_row6\" class=\"row_heading level1 row6\" >mean</th>\n",
       "      <td id=\"T_6d195_row6_col0\" class=\"data row6 col0\" >0.013919</td>\n",
       "      <td id=\"T_6d195_row6_col1\" class=\"data row6 col1\" >0.954514</td>\n",
       "      <td id=\"T_6d195_row6_col2\" class=\"data row6 col2\" >0.954028</td>\n",
       "      <td id=\"T_6d195_row6_col3\" class=\"data row6 col3\" >0.946668</td>\n",
       "      <td id=\"T_6d195_row6_col4\" class=\"data row6 col4\" >0.670268</td>\n",
       "      <td id=\"T_6d195_row6_col5\" class=\"data row6 col5\" >0.949906</td>\n",
       "      <td id=\"T_6d195_row6_col6\" class=\"data row6 col6\" >0.942492</td>\n",
       "      <td id=\"T_6d195_row6_col7\" class=\"data row6 col7\" >0.916169</td>\n",
       "    </tr>\n",
       "    <tr>\n",
       "      <th id=\"T_6d195_level1_row7\" class=\"row_heading level1 row7\" >std</th>\n",
       "      <td id=\"T_6d195_row7_col0\" class=\"data row7 col0\" >0.006195</td>\n",
       "      <td id=\"T_6d195_row7_col1\" class=\"data row7 col1\" >0.003127</td>\n",
       "      <td id=\"T_6d195_row7_col2\" class=\"data row7 col2\" >0.006112</td>\n",
       "      <td id=\"T_6d195_row7_col3\" class=\"data row7 col3\" >0.003989</td>\n",
       "      <td id=\"T_6d195_row7_col4\" class=\"data row7 col4\" >0.008917</td>\n",
       "      <td id=\"T_6d195_row7_col5\" class=\"data row7 col5\" >0.005807</td>\n",
       "      <td id=\"T_6d195_row7_col6\" class=\"data row7 col6\" >0.005369</td>\n",
       "      <td id=\"T_6d195_row7_col7\" class=\"data row7 col7\" >0.006981</td>\n",
       "    </tr>\n",
       "  </tbody>\n",
       "</table>\n"
      ],
      "text/plain": [
       "<pandas.io.formats.style.Styler at 0x7f871da714c0>"
      ]
     },
     "execution_count": 125,
     "metadata": {},
     "output_type": "execute_result"
    }
   ],
   "source": [
    "idx = pd.IndexSlice\n",
    "slice_ = idx[idx[:,'mean'], :]\n",
    "df_results.style.background_gradient(axis=1, subset=slice_)"
   ]
  },
  {
   "cell_type": "markdown",
   "id": "74f44cb2-fb4e-4418-9d06-7579d394dcdd",
   "metadata": {},
   "source": [
    "### Figura\n",
    "\n",
    "Para produzir a figura os dados provenientes dos resultados passaram por uma pequena modificação para que cada método de aprendizado e cada vetorizador ficasse em uma coluna específica."
   ]
  },
  {
   "cell_type": "code",
   "execution_count": 116,
   "id": "6d1317c5-6ca4-4ff0-bf5f-9762cf30f953",
   "metadata": {
    "tags": []
   },
   "outputs": [],
   "source": [
    "results_df = (\n",
    "    pd\n",
    "    .DataFrame(results)\n",
    ")\n",
    "results_df[['vectorizer', 'method']] = results_df['model'].str.split('-', expand=True)"
   ]
  },
  {
   "cell_type": "code",
   "execution_count": 115,
   "id": "358158a2-e76a-4c0c-b33b-323659598f29",
   "metadata": {},
   "outputs": [
    {
     "data": {
      "image/png": "[encoded data removed]",
      "text/plain": [
       "<Figure size 1080x576 with 2 Axes>"
      ]
     },
     "metadata": {
      "needs_background": "light"
     },
     "output_type": "display_data"
    }
   ],
   "source": [
    "fig, (ax1, ax2) = plt.subplots(1,2, figsize=(15,8))\n",
    "\n",
    "sns.violinplot(x=\"method\", y=\"test_accuracy\", hue=\"vectorizer\", \n",
    "               palette=\"colorblind\", data=results_df, cut=0, ax=ax1)\n",
    "ax1.set_title(\"Acurácia\")\n",
    "ax1.set_xlabel(\"Modelo de Predição\")\n",
    "ax1.set_ylabel(\"Acurácia dos conjuntos de teste\")\n",
    "ax1.legend(title=\"Vetorizador\")\n",
    "\n",
    "sns.violinplot(x=\"method\", y=\"test_f1\", hue=\"vectorizer\", \n",
    "               palette=\"colorblind\", data=results_df, cut=0, ax=ax2)\n",
    "ax2.set_title(\"Comparação F1-Score\")\n",
    "ax2.set_xlabel(\"Modelo de Predição\")\n",
    "ax2.set_ylabel(\"F1-Score dos conjuntos de teste\")\n",
    "ax2.legend(title=\"Vetorizador\")\n",
    "\n",
    "plt.show()"
   ]
  },
  {
   "cell_type": "markdown",
   "id": "5b7a4296-ee29-4730-88a7-5962e695d392",
   "metadata": {},
   "source": [
    "Os gráficos do tipo violino exibem a distribuição métricas de avaliação explicadas em detalhe mais acima. Conforme também visto na tabela,a acurácia da maioria dos modelos se encontra acima de 90%. Isso vale para todos os modelos da validação cruzada feito para a Regressão Logística, o Classificador com Vetores de Suporte e a Random Forest. Esses métodos também mostraram bom desempenho em relação ao F1-Score, com valores acima de 0.91. \n",
    "\n",
    "A exceção de desempenho é vista para os modelos gerados com o método dos K Vizinhos Mais Próximos, o KNN. Esse método mostrou baixa acurácia, de cerca de 0.5 utilizando ambos os vetorizadores. Já o F1-Score, apesar de baixo para ambos, foi discrepante a depender do vetorizador. O modelo KNN que utilizou o vetorizador de contagem simples (bag of words, saco de palavras) teve F1-Score próximo a zero. Já o modelo que utilizou o vetorizador TFiDF, que considera também a quantidade de textos em que uma palavra aparece,atingiu um F1-Score de cerca de 0.67."
   ]
  }
 ],
 "metadata": {
  "kernelspec": {
   "display_name": "Python 3 (ipykernel)",
   "language": "python",
   "name": "python3"
  },
  "language_info": {
   "codemirror_mode": {
    "name": "ipython",
    "version": 3
   },
   "file_extension": ".py",
   "mimetype": "text/x-python",
   "name": "python",
   "nbconvert_exporter": "python",
   "pygments_lexer": "ipython3",
   "version": "3.8.10"
  }
 },
 "nbformat": 4,
 "nbformat_minor": 5
}
