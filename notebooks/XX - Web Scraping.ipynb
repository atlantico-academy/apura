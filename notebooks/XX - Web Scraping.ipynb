{
 "cells": [
  {
   "cell_type": "code",
   "execution_count": 1,
   "id": "f7709ec9-8472-461e-a67d-5748e766814c",
   "metadata": {},
   "outputs": [],
   "source": [
    "from src.data import retrieve"
   ]
  },
  {
   "cell_type": "markdown",
   "id": "2235efa9-0a06-49ba-81c0-447a26558c64",
   "metadata": {},
   "source": [
    "## Realiza Scraping de notícias do [G1 Fato ou Fake](https://g1.globo.com/fato-ou-fake/)"
   ]
  },
  {
   "cell_type": "code",
   "execution_count": 2,
   "id": "889edde7-ab18-44a9-b495-af819663e7c3",
   "metadata": {},
   "outputs": [],
   "source": [
    "retrieve.run_g1ff_spider()"
   ]
  },
  {
   "cell_type": "markdown",
   "id": "09c80e4a-b3d9-4002-9313-5f2258d9a449",
   "metadata": {},
   "source": [
    "## Realiza Scraping de notícias do [Boatos.org](https://boatos.org/)\n",
    "Nesse momento, especificamente  as notícias de política"
   ]
  },
  {
   "cell_type": "code",
   "execution_count": 3,
   "id": "91742c4e-a5e3-4d6c-ac8f-68d11f11d6a3",
   "metadata": {},
   "outputs": [
    {
     "ename": "TimeoutError",
     "evalue": "",
     "output_type": "error",
     "traceback": [
      "\u001b[0;31m---------------------------------------------------------------------------\u001b[0m",
      "\u001b[0;31mTimeoutError\u001b[0m                              Traceback (most recent call last)",
      "Input \u001b[0;32mIn [3]\u001b[0m, in \u001b[0;36m<cell line: 1>\u001b[0;34m()\u001b[0m\n\u001b[0;32m----> 1\u001b[0m \u001b[43mretrieve\u001b[49m\u001b[38;5;241;43m.\u001b[39;49m\u001b[43mrun_boatos_spider\u001b[49m\u001b[43m(\u001b[49m\u001b[43m)\u001b[49m\n",
      "File \u001b[0;32m~/.cache/pypoetry/virtualenvs/src-O7b8A6Ss-py3.8/lib/python3.8/site-packages/crochet/_eventloop.py:461\u001b[0m, in \u001b[0;36mEventLoop.wait_for.<locals>.decorator.<locals>.wrapper\u001b[0;34m(function, _, args, kwargs)\u001b[0m\n\u001b[1;32m    459\u001b[0m eventual_result \u001b[38;5;241m=\u001b[39m run()\n\u001b[1;32m    460\u001b[0m \u001b[38;5;28;01mtry\u001b[39;00m:\n\u001b[0;32m--> 461\u001b[0m     \u001b[38;5;28;01mreturn\u001b[39;00m \u001b[43meventual_result\u001b[49m\u001b[38;5;241;43m.\u001b[39;49m\u001b[43mwait\u001b[49m\u001b[43m(\u001b[49m\u001b[43mtimeout\u001b[49m\u001b[43m)\u001b[49m\n\u001b[1;32m    462\u001b[0m \u001b[38;5;28;01mexcept\u001b[39;00m \u001b[38;5;167;01mTimeoutError\u001b[39;00m:\n\u001b[1;32m    463\u001b[0m     eventual_result\u001b[38;5;241m.\u001b[39mcancel()\n",
      "File \u001b[0;32m~/.cache/pypoetry/virtualenvs/src-O7b8A6Ss-py3.8/lib/python3.8/site-packages/crochet/_eventloop.py:196\u001b[0m, in \u001b[0;36mEventualResult.wait\u001b[0;34m(self, timeout)\u001b[0m\n\u001b[1;32m    192\u001b[0m \u001b[38;5;28;01mif\u001b[39;00m threadable\u001b[38;5;241m.\u001b[39misInIOThread():\n\u001b[1;32m    193\u001b[0m     \u001b[38;5;28;01mraise\u001b[39;00m \u001b[38;5;167;01mRuntimeError\u001b[39;00m(\n\u001b[1;32m    194\u001b[0m         \u001b[38;5;124m\"\u001b[39m\u001b[38;5;124mEventualResult.wait() must not be run in the reactor thread.\u001b[39m\u001b[38;5;124m\"\u001b[39m)\n\u001b[0;32m--> 196\u001b[0m result \u001b[38;5;241m=\u001b[39m \u001b[38;5;28;43mself\u001b[39;49m\u001b[38;5;241;43m.\u001b[39;49m\u001b[43m_result\u001b[49m\u001b[43m(\u001b[49m\u001b[43mtimeout\u001b[49m\u001b[43m)\u001b[49m\n\u001b[1;32m    197\u001b[0m \u001b[38;5;28;01mif\u001b[39;00m \u001b[38;5;28misinstance\u001b[39m(result, Failure):\n\u001b[1;32m    198\u001b[0m     result\u001b[38;5;241m.\u001b[39mraiseException()\n",
      "File \u001b[0;32m~/.cache/pypoetry/virtualenvs/src-O7b8A6Ss-py3.8/lib/python3.8/site-packages/crochet/_eventloop.py:175\u001b[0m, in \u001b[0;36mEventualResult._result\u001b[0;34m(self, timeout)\u001b[0m\n\u001b[1;32m    172\u001b[0m \u001b[38;5;66;03m# In Python 2.6 we can't rely on the return result of wait(), so we\u001b[39;00m\n\u001b[1;32m    173\u001b[0m \u001b[38;5;66;03m# have to check manually:\u001b[39;00m\n\u001b[1;32m    174\u001b[0m \u001b[38;5;28;01mif\u001b[39;00m \u001b[38;5;129;01mnot\u001b[39;00m \u001b[38;5;28mself\u001b[39m\u001b[38;5;241m.\u001b[39m_result_set\u001b[38;5;241m.\u001b[39mis_set():\n\u001b[0;32m--> 175\u001b[0m     \u001b[38;5;28;01mraise\u001b[39;00m \u001b[38;5;167;01mTimeoutError\u001b[39;00m()\n\u001b[1;32m    176\u001b[0m \u001b[38;5;28mself\u001b[39m\u001b[38;5;241m.\u001b[39m_result_retrieved \u001b[38;5;241m=\u001b[39m \u001b[38;5;28;01mTrue\u001b[39;00m\n\u001b[1;32m    177\u001b[0m \u001b[38;5;28;01mreturn\u001b[39;00m \u001b[38;5;28mself\u001b[39m\u001b[38;5;241m.\u001b[39m_value\n",
      "\u001b[0;31mTimeoutError\u001b[0m: "
     ]
    }
   ],
   "source": [
    "retrieve.run_boatos_spider()"
   ]
  },
  {
   "cell_type": "code",
   "execution_count": null,
   "id": "064732e3-c8d9-40c1-b176-551163d0103b",
   "metadata": {},
   "outputs": [],
   "source": []
  }
 ],
 "metadata": {
  "kernelspec": {
   "display_name": "Python 3 (ipykernel)",
   "language": "python",
   "name": "python3"
  },
  "language_info": {
   "codemirror_mode": {
    "name": "ipython",
    "version": 3
   },
   "file_extension": ".py",
   "mimetype": "text/x-python",
   "name": "python",
   "nbconvert_exporter": "python",
   "pygments_lexer": "ipython3",
   "version": "3.8.10"
  }
 },
 "nbformat": 4,
 "nbformat_minor": 5
}
