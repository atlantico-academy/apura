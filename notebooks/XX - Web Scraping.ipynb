{
 "cells": [
  {
   "cell_type": "code",
   "execution_count": 1,
   "id": "f7709ec9-8472-461e-a67d-5748e766814c",
   "metadata": {},
   "outputs": [],
   "source": [
    "import pandas as pd\n",
    "from matplotlib import pyplot as plt\n",
    "import numpy as np\n",
    "\n",
    "from src.data import retrieve"
   ]
  },
  {
   "cell_type": "markdown",
   "id": "2235efa9-0a06-49ba-81c0-447a26558c64",
   "metadata": {},
   "source": [
    "## Realiza Scraping de notícias do [G1 Fato ou Fake](https://g1.globo.com/fato-ou-fake/)"
   ]
  },
  {
   "cell_type": "code",
   "execution_count": 2,
   "id": "889edde7-ab18-44a9-b495-af819663e7c3",
   "metadata": {},
   "outputs": [],
   "source": [
    "retrieve.run_g1ff_spider()"
   ]
  },
  {
   "cell_type": "code",
   "execution_count": 3,
   "id": "d0d5800a-2eb9-4682-a73f-6fb83a4efbaf",
   "metadata": {},
   "outputs": [
    {
     "name": "stdout",
     "output_type": "stream",
     "text": [
      "<class 'pandas.core.frame.DataFrame'>\n",
      "RangeIndex: 1612 entries, 0 to 1611\n",
      "Data columns (total 9 columns):\n",
      " #   Column          Non-Null Count  Dtype \n",
      "---  ------          --------------  ----- \n",
      " 0   titulo          1612 non-null   object\n",
      " 1   vinheta         1611 non-null   object\n",
      " 2   tempo           1612 non-null   object\n",
      " 3   data_explicita  1400 non-null   object\n",
      " 4   autoria         1399 non-null   object\n",
      " 5   lead            1611 non-null   object\n",
      " 6   principal       1288 non-null   object\n",
      " 7   texto           1400 non-null   object\n",
      " 8   label           1612 non-null   int64 \n",
      "dtypes: int64(1), object(8)\n",
      "memory usage: 113.5+ KB\n"
     ]
    }
   ],
   "source": [
    "g1_df = pd.read_csv('../data/raw/scraping/g1ff.csv')\n",
    "g1_df.info()"
   ]
  },
  {
   "cell_type": "code",
   "execution_count": 4,
   "id": "b44fcc21-ac3b-4182-b2d5-9cf39af9cee4",
   "metadata": {},
   "outputs": [
    {
     "data": {
      "text/plain": [
       "<AxesSubplot:>"
      ]
     },
     "execution_count": 4,
     "metadata": {},
     "output_type": "execute_result"
    },
    {
     "data": {
      "image/png": "[encoded data removed]",
      "text/plain": [
       "<Figure size 432x288 with 1 Axes>"
      ]
     },
     "metadata": {
      "needs_background": "light"
     },
     "output_type": "display_data"
    }
   ],
   "source": [
    "(\n",
    "    g1_df\n",
    "    .data_explicita\n",
    "    .str\n",
    "    .split('/', expand=True)[2]\n",
    "    .fillna(0)\n",
    "    .astype(int)\n",
    "    .value_counts()\n",
    "    .sort_index()\n",
    "    .plot(kind='bar')\n",
    ")"
   ]
  },
  {
   "cell_type": "code",
   "execution_count": 5,
   "id": "31f2303a-a307-43e2-b6e7-75560164f303",
   "metadata": {},
   "outputs": [
    {
     "data": {
      "text/html": [
       "<div>\n",
       "<style scoped>\n",
       "    .dataframe tbody tr th:only-of-type {\n",
       "        vertical-align: middle;\n",
       "    }\n",
       "\n",
       "    .dataframe tbody tr th {\n",
       "        vertical-align: top;\n",
       "    }\n",
       "\n",
       "    .dataframe thead th {\n",
       "        text-align: right;\n",
       "    }\n",
       "</style>\n",
       "<table border=\"1\" class=\"dataframe\">\n",
       "  <thead>\n",
       "    <tr style=\"text-align: right;\">\n",
       "      <th></th>\n",
       "      <th>ano</th>\n",
       "      <th>contagem</th>\n",
       "    </tr>\n",
       "  </thead>\n",
       "  <tbody>\n",
       "    <tr>\n",
       "      <th>0</th>\n",
       "      <td>0</td>\n",
       "      <td>212</td>\n",
       "    </tr>\n",
       "    <tr>\n",
       "      <th>1</th>\n",
       "      <td>2018</td>\n",
       "      <td>248</td>\n",
       "    </tr>\n",
       "    <tr>\n",
       "      <th>2</th>\n",
       "      <td>2019</td>\n",
       "      <td>194</td>\n",
       "    </tr>\n",
       "    <tr>\n",
       "      <th>3</th>\n",
       "      <td>2020</td>\n",
       "      <td>504</td>\n",
       "    </tr>\n",
       "    <tr>\n",
       "      <th>4</th>\n",
       "      <td>2021</td>\n",
       "      <td>346</td>\n",
       "    </tr>\n",
       "    <tr>\n",
       "      <th>5</th>\n",
       "      <td>2022</td>\n",
       "      <td>108</td>\n",
       "    </tr>\n",
       "  </tbody>\n",
       "</table>\n",
       "</div>"
      ],
      "text/plain": [
       "    ano  contagem\n",
       "0     0       212\n",
       "1  2018       248\n",
       "2  2019       194\n",
       "3  2020       504\n",
       "4  2021       346\n",
       "5  2022       108"
      ]
     },
     "execution_count": 5,
     "metadata": {},
     "output_type": "execute_result"
    }
   ],
   "source": [
    "g1_df['ano'] = (\n",
    "    g1_df\n",
    "    .data_explicita\n",
    "    .str\n",
    "    .split('/', expand=True)[2]\n",
    "    .fillna(0)\n",
    "    .astype(int)\n",
    ")\n",
    "\n",
    "ano_contagem = (\n",
    "    g1_df['ano']\n",
    "    .value_counts()\n",
    "    .sort_index()\n",
    "    .rename_axis('ano')\n",
    "    .reset_index(name='contagem')\n",
    ")\n",
    "\n",
    "ano_contagem"
   ]
  },
  {
   "cell_type": "code",
   "execution_count": 6,
   "id": "57593afa-05e8-44fe-acc5-21018c6c6e0a",
   "metadata": {},
   "outputs": [
    {
     "data": {
      "image/png": "[encoded data removed]",
      "text/plain": [
       "<Figure size 432x288 with 1 Axes>"
      ]
     },
     "metadata": {
      "needs_background": "light"
     },
     "output_type": "display_data"
    }
   ],
   "source": [
    "plt.bar(ano_contagem['ano'].astype(str), ano_contagem['contagem'])\n",
    "\n",
    "plt.title('Ano de publicação das notícias do G1 Fato ou Fake')\n",
    "plt.xlabel('Ano')\n",
    "plt.ylabel('Número de notícias')\n",
    "\n",
    "plt.show()"
   ]
  },
  {
   "cell_type": "code",
   "execution_count": null,
   "id": "1c2d308a-be9d-49ab-8ed0-f6b569b65d37",
   "metadata": {},
   "outputs": [],
   "source": []
  },
  {
   "cell_type": "markdown",
   "id": "09c80e4a-b3d9-4002-9313-5f2258d9a449",
   "metadata": {},
   "source": [
    "## Realiza Scraping de notícias do [Boatos.org](https://boatos.org/)\n",
    "Nesse momento, especificamente  as notícias de política"
   ]
  },
  {
   "cell_type": "code",
   "execution_count": 8,
   "id": "91742c4e-a5e3-4d6c-ac8f-68d11f11d6a3",
   "metadata": {},
   "outputs": [],
   "source": [
    "# Via notebook\n",
    "# retrieve.run_boatos_spider()\n",
    "\n",
    "# Comentado porque está falhando em pegar todas as notícias; TimeoutError"
   ]
  },
  {
   "cell_type": "code",
   "execution_count": 9,
   "id": "7f9be404-5e00-4b47-9fed-a272d0148dfb",
   "metadata": {},
   "outputs": [
    {
     "name": "stdout",
     "output_type": "stream",
     "text": [
      "2022-06-20 17:35:08 [scrapy.utils.log] INFO: Scrapy 2.6.1 started (bot: scrapybot)\n",
      "2022-06-20 17:35:08 [scrapy.utils.log] INFO: Versions: lxml 4.9.0.0, libxml2 2.9.14, cssselect 1.1.0, parsel 1.6.0, w3lib 1.22.0, Twisted 22.4.0, Python 3.8.10 (default, Jun  8 2022, 20:37:38) - [GCC 11.2.0], pyOpenSSL 22.0.0 (OpenSSL 3.0.3 3 May 2022), cryptography 37.0.2, Platform Linux-5.15.0-37-generic-x86_64-with-glibc2.35\n",
      "2022-06-20 17:35:08 [scrapy.crawler] INFO: Overridden settings:\n",
      "{'LOG_LEVEL': 'WARNING'}\n"
     ]
    }
   ],
   "source": [
    "# Via shell\n",
    "\n",
    "!python ../src/data/boatos_scraping.py "
   ]
  },
  {
   "cell_type": "code",
   "execution_count": 10,
   "id": "064732e3-c8d9-40c1-b176-551163d0103b",
   "metadata": {},
   "outputs": [
    {
     "name": "stdout",
     "output_type": "stream",
     "text": [
      "<class 'pandas.core.frame.DataFrame'>\n",
      "RangeIndex: 2042 entries, 0 to 2041\n",
      "Data columns (total 7 columns):\n",
      " #   Column     Non-Null Count  Dtype \n",
      "---  ------     --------------  ----- \n",
      " 0   titulo     2042 non-null   object\n",
      " 1   data       1749 non-null   object\n",
      " 2   autoria    2042 non-null   object\n",
      " 3   tags       477 non-null    object\n",
      " 4   principal  1863 non-null   object\n",
      " 5   texto      2041 non-null   object\n",
      " 6   label      2042 non-null   int64 \n",
      "dtypes: int64(1), object(6)\n",
      "memory usage: 111.8+ KB\n"
     ]
    }
   ],
   "source": [
    "boatos_df = pd.read_csv('../data/raw/scraping/boatos.csv')\n",
    "boatos_df.info()"
   ]
  },
  {
   "cell_type": "code",
   "execution_count": 11,
   "id": "6bd2d425-74b7-463a-994a-28084f7f8e49",
   "metadata": {},
   "outputs": [
    {
     "data": {
      "text/plain": [
       "<AxesSubplot:>"
      ]
     },
     "execution_count": 11,
     "metadata": {},
     "output_type": "execute_result"
    },
    {
     "data": {
      "image/png": "[encoded data removed]",
      "text/plain": [
       "<Figure size 432x288 with 1 Axes>"
      ]
     },
     "metadata": {
      "needs_background": "light"
     },
     "output_type": "display_data"
    }
   ],
   "source": [
    "(\n",
    "    boatos_df\n",
    "    .data\n",
    "    .str\n",
    "    .split('/', expand=True)[2]\n",
    "    .fillna(0)\n",
    "    .astype(int)\n",
    "    .value_counts()\n",
    "    .sort_index()\n",
    "    .plot(kind='bar')\n",
    ")"
   ]
  }
 ],
 "metadata": {
  "kernelspec": {
   "display_name": "Python 3 (ipykernel)",
   "language": "python",
   "name": "python3"
  },
  "language_info": {
   "codemirror_mode": {
    "name": "ipython",
    "version": 3
   },
   "file_extension": ".py",
   "mimetype": "text/x-python",
   "name": "python",
   "nbconvert_exporter": "python",
   "pygments_lexer": "ipython3",
   "version": "3.8.10"
  }
 },
 "nbformat": 4,
 "nbformat_minor": 5
}
