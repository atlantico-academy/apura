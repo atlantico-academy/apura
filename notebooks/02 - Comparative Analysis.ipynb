{
 "cells": [
  {
   "cell_type": "code",
   "execution_count": 1,
   "id": "542b5384-0a7a-4009-bd2d-bf6c6c8656d3",
   "metadata": {},
   "outputs": [
    {
     "name": "stderr",
     "output_type": "stream",
     "text": [
      "[nltk_data] Downloading package stopwords to /home/madson/nltk_data...\n",
      "[nltk_data]   Package stopwords is already up-to-date!\n"
     ]
    },
    {
     "data": {
      "text/plain": [
       "True"
      ]
     },
     "execution_count": 1,
     "metadata": {},
     "output_type": "execute_result"
    }
   ],
   "source": [
    "from itertools import product\n",
    "import pandas as pd\n",
    "import nltk\n",
    "import numpy as np\n",
    "from sklearn.feature_extraction.text import CountVectorizer, TfidfVectorizer\n",
    "from sklearn.decomposition import TruncatedSVD\n",
    "from sklearn.preprocessing import StandardScaler\n",
    "from sklearn.pipeline import Pipeline\n",
    "from sklearn.linear_model import LogisticRegression\n",
    "from sklearn.neighbors import KNeighborsClassifier\n",
    "from sklearn.svm import SVC\n",
    "from sklearn.ensemble import RandomForestClassifier\n",
    "from sklearn.model_selection import ShuffleSplit, cross_validate\n",
    "\n",
    "nltk.download(\"stopwords\")"
   ]
  },
  {
   "cell_type": "code",
   "execution_count": 2,
   "id": "cf70b45f-1075-4258-956f-d9e9b450a7d1",
   "metadata": {},
   "outputs": [],
   "source": [
    "output_path = \"../data/interim/news.csv\"\n",
    "\n",
    "df = pd.read_csv(output_path)"
   ]
  },
  {
   "cell_type": "code",
   "execution_count": 3,
   "id": "0c67cb15-1ed2-4c4c-9aca-8e94756dfe39",
   "metadata": {},
   "outputs": [],
   "source": [
    "corpus = df.text.to_list()\n",
    "labels = df.label.replace({\"true\": 1, \"fake\": 0})"
   ]
  },
  {
   "cell_type": "code",
   "execution_count": 4,
   "id": "bf09e2bd-e35e-4cef-8849-85397fb0d4a0",
   "metadata": {},
   "outputs": [],
   "source": [
    "vectorizers = {\n",
    "    'bow': CountVectorizer(\n",
    "        stop_words = nltk.corpus.stopwords.words('portuguese'),\n",
    "        max_features = 1000\n",
    "    ),\n",
    "    'tfidf': TfidfVectorizer(\n",
    "        stop_words = nltk.corpus.stopwords.words('portuguese'),\n",
    "        max_features = 1000\n",
    "    )\n",
    "}"
   ]
  },
  {
   "cell_type": "code",
   "execution_count": 5,
   "id": "5251981e-4d02-4213-85ed-95af456e4894",
   "metadata": {},
   "outputs": [],
   "source": [
    "models = {\n",
    "    'logistic regression': LogisticRegression(),\n",
    "    'KNN': KNeighborsClassifier(n_neighbors=13),\n",
    "    # 'SVC': SVC(),\n",
    "    # 'random forest': RandomForestClassifier()\n",
    "}"
   ]
  },
  {
   "cell_type": "code",
   "execution_count": 6,
   "id": "a20a6091-4dd7-4c95-b821-41008bdd7122",
   "metadata": {},
   "outputs": [],
   "source": [
    "pca = TruncatedSVD(500)\n",
    "scaler = StandardScaler()"
   ]
  },
  {
   "cell_type": "code",
   "execution_count": 8,
   "id": "2d7e46c1-96a2-4dfc-a337-1782d58a6439",
   "metadata": {},
   "outputs": [],
   "source": [
    "results = []\n",
    "n_splits = 2\n",
    "split = ShuffleSplit(n_splits=2, test_size=.2)\n",
    "for vectorizer, model in product(vectorizers.items(), models.items()):\n",
    "    vectorizer_name, vectorizer_ = vectorizer\n",
    "    model_name, model_ = model\n",
    "    pipeline = Pipeline(steps=[\n",
    "        (\"vectorizer\", vectorizer_),\n",
    "        (\"pca\", pca),\n",
    "        (\"normalize\", scaler),\n",
    "        (\"model\", model_)\n",
    "    ])    \n",
    "    scores = cross_validate(pipeline, corpus, labels, cv=split, scoring=['accuracy', 'f1'])\n",
    "    scores['model'] = [f\"{vectorizer_name}-{model_name}\"] * n_splits\n",
    "    results.append(scores)"
   ]
  },
  {
   "cell_type": "code",
   "execution_count": 13,
   "id": "bececb25-cd41-4bb0-bd7c-01b2d40ff34c",
   "metadata": {},
   "outputs": [
    {
     "data": {
      "text/plain": [
       "[{'fit_time': array([11.73648429, 15.6973598 ]),\n",
       "  'score_time': array([1.02295494, 1.57914925]),\n",
       "  'test_accuracy': array([0.94583333, 0.95      ]),\n",
       "  'test_f1': array([0.94483734, 0.94929577]),\n",
       "  'model': ['bow-logistic regression', 'bow-logistic regression']},\n",
       " {'fit_time': array([15.21366167,  9.90649676]),\n",
       "  'score_time': array([2.55434251, 1.34401941]),\n",
       "  'test_accuracy': array([0.49930556, 0.51736111]),\n",
       "  'test_f1': array([0.03480589, 0.02524544]),\n",
       "  'model': ['bow-KNN', 'bow-KNN']},\n",
       " {'fit_time': array([11.42240334, 11.35403204]),\n",
       "  'score_time': array([1.10866857, 1.75711107]),\n",
       "  'test_accuracy': array([0.94375   , 0.93611111]),\n",
       "  'test_f1': array([0.94440631, 0.93637621]),\n",
       "  'model': ['tfidf-logistic regression', 'tfidf-logistic regression']},\n",
       " {'fit_time': array([11.77098441, 10.67070436]),\n",
       "  'score_time': array([1.2042861, 1.2369945]),\n",
       "  'test_accuracy': array([0.525     , 0.52222222]),\n",
       "  'test_f1': array([0.67766258, 0.67331434]),\n",
       "  'model': ['tfidf-KNN', 'tfidf-KNN']}]"
      ]
     },
     "execution_count": 13,
     "metadata": {},
     "output_type": "execute_result"
    }
   ],
   "source": [
    "results"
   ]
  },
  {
   "cell_type": "code",
   "execution_count": null,
   "id": "b3d57768-04a8-479e-ab87-70a7437dcf52",
   "metadata": {},
   "outputs": [],
   "source": []
  }
 ],
 "metadata": {
  "kernelspec": {
   "display_name": "Python 3 (ipykernel)",
   "language": "python",
   "name": "python3"
  },
  "language_info": {
   "codemirror_mode": {
    "name": "ipython",
    "version": 3
   },
   "file_extension": ".py",
   "mimetype": "text/x-python",
   "name": "python",
   "nbconvert_exporter": "python",
   "pygments_lexer": "ipython3",
   "version": "3.8.10"
  }
 },
 "nbformat": 4,
 "nbformat_minor": 5
}
