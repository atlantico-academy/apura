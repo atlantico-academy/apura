{
 "cells": [
  {
   "cell_type": "code",
   "execution_count": 1,
   "id": "542b5384-0a7a-4009-bd2d-bf6c6c8656d3",
   "metadata": {},
   "outputs": [
    {
     "name": "stderr",
     "output_type": "stream",
     "text": [
      "[nltk_data] Downloading package stopwords to /home/madson/nltk_data...\n",
      "[nltk_data]   Package stopwords is already up-to-date!\n"
     ]
    },
    {
     "data": {
      "text/plain": [
       "True"
      ]
     },
     "execution_count": 1,
     "metadata": {},
     "output_type": "execute_result"
    }
   ],
   "source": [
    "import pandas as pd\n",
    "import nltk\n",
    "from sklearn.feature_extraction.text import CountVectorizer\n",
    "from sklearn.decomposition import TruncatedSVD\n",
    "from sklearn.preprocessing import StandardScaler\n",
    "from sklearn.pipeline import Pipeline\n",
    "from sklearn.linear_model import LogisticRegression\n",
    "from sklearn.svm import SVC\n",
    "from sklearn.model_selection import ShuffleSplit, cross_val_score\n",
    "\n",
    "nltk.download(\"stopwords\")"
   ]
  },
  {
   "cell_type": "code",
   "execution_count": 2,
   "id": "cf70b45f-1075-4258-956f-d9e9b450a7d1",
   "metadata": {},
   "outputs": [],
   "source": [
    "output_path = \"../data/interim/news.csv\"\n",
    "\n",
    "df = pd.read_csv(output_path)"
   ]
  },
  {
   "cell_type": "code",
   "execution_count": 3,
   "id": "0c67cb15-1ed2-4c4c-9aca-8e94756dfe39",
   "metadata": {},
   "outputs": [],
   "source": [
    "corpus = df.text.to_list()\n",
    "labels = df.label.replace({\"true\": 1, \"fake\": 0})"
   ]
  },
  {
   "cell_type": "code",
   "execution_count": 4,
   "id": "bf09e2bd-e35e-4cef-8849-85397fb0d4a0",
   "metadata": {},
   "outputs": [],
   "source": [
    "vectorizer = CountVectorizer(\n",
    "    stop_words = nltk.corpus.stopwords.words('portuguese'),\n",
    "    max_features = 1000\n",
    ")\n",
    "pca = TruncatedSVD(500)\n",
    "scaler = StandardScaler()\n",
    "model = SVC()"
   ]
  },
  {
   "cell_type": "code",
   "execution_count": 5,
   "id": "9b3a4723-f6bd-40d2-a869-26bf56a2821b",
   "metadata": {},
   "outputs": [],
   "source": [
    "pipeline = Pipeline(steps=[\n",
    "    (\"vectorizer\", vectorizer),\n",
    "    (\"pca\", pca),\n",
    "    (\"normalize\", scaler),\n",
    "    (\"model\", model)\n",
    "])\n",
    "\n",
    "split = ShuffleSplit(n_splits=30, test_size=.2)\n",
    "scores = cross_val_score(pipeline, corpus, labels, cv=split)"
   ]
  },
  {
   "cell_type": "code",
   "execution_count": 6,
   "id": "50a088d4-a1b8-4b08-b16e-4fdb2d14885f",
   "metadata": {},
   "outputs": [],
   "source": [
    "split = ShuffleSplit(n_splits=30, test_size=.2)\n",
    "scores = cross_val_score(pipeline, corpus, labels, cv=split)"
   ]
  },
  {
   "cell_type": "code",
   "execution_count": 8,
   "id": "590972d8-feea-4bc0-8596-5cdf2bd5daa0",
   "metadata": {},
   "outputs": [
    {
     "data": {
      "text/plain": [
       "0.9510185185185184"
      ]
     },
     "execution_count": 8,
     "metadata": {},
     "output_type": "execute_result"
    }
   ],
   "source": [
    "scores.mean()"
   ]
  },
  {
   "cell_type": "code",
   "execution_count": 9,
   "id": "d457c7f6-c0e4-4cdd-a28a-8d3ff67b64d1",
   "metadata": {},
   "outputs": [
    {
     "data": {
      "text/plain": [
       "0.0051430580351927825"
      ]
     },
     "execution_count": 9,
     "metadata": {},
     "output_type": "execute_result"
    }
   ],
   "source": [
    "scores.std()"
   ]
  }
 ],
 "metadata": {
  "kernelspec": {
   "display_name": "Python 3 (ipykernel)",
   "language": "python",
   "name": "python3"
  },
  "language_info": {
   "codemirror_mode": {
    "name": "ipython",
    "version": 3
   },
   "file_extension": ".py",
   "mimetype": "text/x-python",
   "name": "python",
   "nbconvert_exporter": "python",
   "pygments_lexer": "ipython3",
   "version": "3.8.10"
  }
 },
 "nbformat": 4,
 "nbformat_minor": 5
}
